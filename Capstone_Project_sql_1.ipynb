{
  "nbformat": 4,
  "nbformat_minor": 0,
  "metadata": {
    "colab": {
      "provenance": []
    },
    "kernelspec": {
      "name": "python3",
      "display_name": "Python 3"
    },
    "language_info": {
      "name": "python"
    }
  },
  "cells": [
    {
      "cell_type": "code",
      "execution_count": 1,
      "metadata": {
        "id": "cdbR2AzW91kB"
      },
      "outputs": [],
      "source": [
        "import pandas as pd\n"
      ]
    },
    {
      "cell_type": "code",
      "source": [
        "df=pd.read_csv(\"Amazon.csv\")"
      ],
      "metadata": {
        "id": "uhICVNaS-Bzq"
      },
      "execution_count": 2,
      "outputs": []
    },
    {
      "cell_type": "code",
      "source": [
        "df.head()"
      ],
      "metadata": {
        "colab": {
          "base_uri": "https://localhost:8080/",
          "height": 313
        },
        "id": "wI2Aq75w-IGS",
        "outputId": "bbb9ba79-3310-493f-e42d-6bc7a1f07ea2"
      },
      "execution_count": 3,
      "outputs": [
        {
          "output_type": "execute_result",
          "data": {
            "text/plain": [
              "    Invoice_ID Branch       City Customer_type  Gender  \\\n",
              "0  750-67-8428      A     Yangon        Member  Female   \n",
              "1  226-31-3081      C  Naypyitaw        Normal  Female   \n",
              "2  631-41-3108      A     Yangon        Normal    Male   \n",
              "3  123-19-1176      A     Yangon        Member    Male   \n",
              "4  373-73-7910      A     Yangon        Normal    Male   \n",
              "\n",
              "             Product_line  Unit_price  Quantity   Tax_5%     Total  \\\n",
              "0       Health and beauty       74.69         7  26.1415  548.9715   \n",
              "1  Electronic accessories       15.28         5   3.8200   80.2200   \n",
              "2      Home and lifestyle       46.33         7  16.2155  340.5255   \n",
              "3       Health and beauty       58.22         8  23.2880  489.0480   \n",
              "4       Sports and travel       86.31         7  30.2085  634.3785   \n",
              "\n",
              "         Date      Time      Payment    cogs  gross_margin_percentage  \\\n",
              "0  2019-01-05  13:08:00      Ewallet  522.83                 4.761905   \n",
              "1  2019-03-08  10:29:00         Cash   76.40                 4.761905   \n",
              "2  2019-03-03  13:23:00  Credit card  324.31                 4.761905   \n",
              "3  2019-01-27  20:33:00      Ewallet  465.76                 4.761905   \n",
              "4  2019-02-08  10:37:00      Ewallet  604.17                 4.761905   \n",
              "\n",
              "   gross_income  Rating  \n",
              "0       26.1415     9.1  \n",
              "1        3.8200     9.6  \n",
              "2       16.2155     7.4  \n",
              "3       23.2880     8.4  \n",
              "4       30.2085     5.3  "
            ],
            "text/html": [
              "\n",
              "  <div id=\"df-20f5c166-e4f7-4b02-aa79-1810656a2e37\" class=\"colab-df-container\">\n",
              "    <div>\n",
              "<style scoped>\n",
              "    .dataframe tbody tr th:only-of-type {\n",
              "        vertical-align: middle;\n",
              "    }\n",
              "\n",
              "    .dataframe tbody tr th {\n",
              "        vertical-align: top;\n",
              "    }\n",
              "\n",
              "    .dataframe thead th {\n",
              "        text-align: right;\n",
              "    }\n",
              "</style>\n",
              "<table border=\"1\" class=\"dataframe\">\n",
              "  <thead>\n",
              "    <tr style=\"text-align: right;\">\n",
              "      <th></th>\n",
              "      <th>Invoice_ID</th>\n",
              "      <th>Branch</th>\n",
              "      <th>City</th>\n",
              "      <th>Customer_type</th>\n",
              "      <th>Gender</th>\n",
              "      <th>Product_line</th>\n",
              "      <th>Unit_price</th>\n",
              "      <th>Quantity</th>\n",
              "      <th>Tax_5%</th>\n",
              "      <th>Total</th>\n",
              "      <th>Date</th>\n",
              "      <th>Time</th>\n",
              "      <th>Payment</th>\n",
              "      <th>cogs</th>\n",
              "      <th>gross_margin_percentage</th>\n",
              "      <th>gross_income</th>\n",
              "      <th>Rating</th>\n",
              "    </tr>\n",
              "  </thead>\n",
              "  <tbody>\n",
              "    <tr>\n",
              "      <th>0</th>\n",
              "      <td>750-67-8428</td>\n",
              "      <td>A</td>\n",
              "      <td>Yangon</td>\n",
              "      <td>Member</td>\n",
              "      <td>Female</td>\n",
              "      <td>Health and beauty</td>\n",
              "      <td>74.69</td>\n",
              "      <td>7</td>\n",
              "      <td>26.1415</td>\n",
              "      <td>548.9715</td>\n",
              "      <td>2019-01-05</td>\n",
              "      <td>13:08:00</td>\n",
              "      <td>Ewallet</td>\n",
              "      <td>522.83</td>\n",
              "      <td>4.761905</td>\n",
              "      <td>26.1415</td>\n",
              "      <td>9.1</td>\n",
              "    </tr>\n",
              "    <tr>\n",
              "      <th>1</th>\n",
              "      <td>226-31-3081</td>\n",
              "      <td>C</td>\n",
              "      <td>Naypyitaw</td>\n",
              "      <td>Normal</td>\n",
              "      <td>Female</td>\n",
              "      <td>Electronic accessories</td>\n",
              "      <td>15.28</td>\n",
              "      <td>5</td>\n",
              "      <td>3.8200</td>\n",
              "      <td>80.2200</td>\n",
              "      <td>2019-03-08</td>\n",
              "      <td>10:29:00</td>\n",
              "      <td>Cash</td>\n",
              "      <td>76.40</td>\n",
              "      <td>4.761905</td>\n",
              "      <td>3.8200</td>\n",
              "      <td>9.6</td>\n",
              "    </tr>\n",
              "    <tr>\n",
              "      <th>2</th>\n",
              "      <td>631-41-3108</td>\n",
              "      <td>A</td>\n",
              "      <td>Yangon</td>\n",
              "      <td>Normal</td>\n",
              "      <td>Male</td>\n",
              "      <td>Home and lifestyle</td>\n",
              "      <td>46.33</td>\n",
              "      <td>7</td>\n",
              "      <td>16.2155</td>\n",
              "      <td>340.5255</td>\n",
              "      <td>2019-03-03</td>\n",
              "      <td>13:23:00</td>\n",
              "      <td>Credit card</td>\n",
              "      <td>324.31</td>\n",
              "      <td>4.761905</td>\n",
              "      <td>16.2155</td>\n",
              "      <td>7.4</td>\n",
              "    </tr>\n",
              "    <tr>\n",
              "      <th>3</th>\n",
              "      <td>123-19-1176</td>\n",
              "      <td>A</td>\n",
              "      <td>Yangon</td>\n",
              "      <td>Member</td>\n",
              "      <td>Male</td>\n",
              "      <td>Health and beauty</td>\n",
              "      <td>58.22</td>\n",
              "      <td>8</td>\n",
              "      <td>23.2880</td>\n",
              "      <td>489.0480</td>\n",
              "      <td>2019-01-27</td>\n",
              "      <td>20:33:00</td>\n",
              "      <td>Ewallet</td>\n",
              "      <td>465.76</td>\n",
              "      <td>4.761905</td>\n",
              "      <td>23.2880</td>\n",
              "      <td>8.4</td>\n",
              "    </tr>\n",
              "    <tr>\n",
              "      <th>4</th>\n",
              "      <td>373-73-7910</td>\n",
              "      <td>A</td>\n",
              "      <td>Yangon</td>\n",
              "      <td>Normal</td>\n",
              "      <td>Male</td>\n",
              "      <td>Sports and travel</td>\n",
              "      <td>86.31</td>\n",
              "      <td>7</td>\n",
              "      <td>30.2085</td>\n",
              "      <td>634.3785</td>\n",
              "      <td>2019-02-08</td>\n",
              "      <td>10:37:00</td>\n",
              "      <td>Ewallet</td>\n",
              "      <td>604.17</td>\n",
              "      <td>4.761905</td>\n",
              "      <td>30.2085</td>\n",
              "      <td>5.3</td>\n",
              "    </tr>\n",
              "  </tbody>\n",
              "</table>\n",
              "</div>\n",
              "    <div class=\"colab-df-buttons\">\n",
              "\n",
              "  <div class=\"colab-df-container\">\n",
              "    <button class=\"colab-df-convert\" onclick=\"convertToInteractive('df-20f5c166-e4f7-4b02-aa79-1810656a2e37')\"\n",
              "            title=\"Convert this dataframe to an interactive table.\"\n",
              "            style=\"display:none;\">\n",
              "\n",
              "  <svg xmlns=\"http://www.w3.org/2000/svg\" height=\"24px\" viewBox=\"0 -960 960 960\">\n",
              "    <path d=\"M120-120v-720h720v720H120Zm60-500h600v-160H180v160Zm220 220h160v-160H400v160Zm0 220h160v-160H400v160ZM180-400h160v-160H180v160Zm440 0h160v-160H620v160ZM180-180h160v-160H180v160Zm440 0h160v-160H620v160Z\"/>\n",
              "  </svg>\n",
              "    </button>\n",
              "\n",
              "  <style>\n",
              "    .colab-df-container {\n",
              "      display:flex;\n",
              "      gap: 12px;\n",
              "    }\n",
              "\n",
              "    .colab-df-convert {\n",
              "      background-color: #E8F0FE;\n",
              "      border: none;\n",
              "      border-radius: 50%;\n",
              "      cursor: pointer;\n",
              "      display: none;\n",
              "      fill: #1967D2;\n",
              "      height: 32px;\n",
              "      padding: 0 0 0 0;\n",
              "      width: 32px;\n",
              "    }\n",
              "\n",
              "    .colab-df-convert:hover {\n",
              "      background-color: #E2EBFA;\n",
              "      box-shadow: 0px 1px 2px rgba(60, 64, 67, 0.3), 0px 1px 3px 1px rgba(60, 64, 67, 0.15);\n",
              "      fill: #174EA6;\n",
              "    }\n",
              "\n",
              "    .colab-df-buttons div {\n",
              "      margin-bottom: 4px;\n",
              "    }\n",
              "\n",
              "    [theme=dark] .colab-df-convert {\n",
              "      background-color: #3B4455;\n",
              "      fill: #D2E3FC;\n",
              "    }\n",
              "\n",
              "    [theme=dark] .colab-df-convert:hover {\n",
              "      background-color: #434B5C;\n",
              "      box-shadow: 0px 1px 3px 1px rgba(0, 0, 0, 0.15);\n",
              "      filter: drop-shadow(0px 1px 2px rgba(0, 0, 0, 0.3));\n",
              "      fill: #FFFFFF;\n",
              "    }\n",
              "  </style>\n",
              "\n",
              "    <script>\n",
              "      const buttonEl =\n",
              "        document.querySelector('#df-20f5c166-e4f7-4b02-aa79-1810656a2e37 button.colab-df-convert');\n",
              "      buttonEl.style.display =\n",
              "        google.colab.kernel.accessAllowed ? 'block' : 'none';\n",
              "\n",
              "      async function convertToInteractive(key) {\n",
              "        const element = document.querySelector('#df-20f5c166-e4f7-4b02-aa79-1810656a2e37');\n",
              "        const dataTable =\n",
              "          await google.colab.kernel.invokeFunction('convertToInteractive',\n",
              "                                                    [key], {});\n",
              "        if (!dataTable) return;\n",
              "\n",
              "        const docLinkHtml = 'Like what you see? Visit the ' +\n",
              "          '<a target=\"_blank\" href=https://colab.research.google.com/notebooks/data_table.ipynb>data table notebook</a>'\n",
              "          + ' to learn more about interactive tables.';\n",
              "        element.innerHTML = '';\n",
              "        dataTable['output_type'] = 'display_data';\n",
              "        await google.colab.output.renderOutput(dataTable, element);\n",
              "        const docLink = document.createElement('div');\n",
              "        docLink.innerHTML = docLinkHtml;\n",
              "        element.appendChild(docLink);\n",
              "      }\n",
              "    </script>\n",
              "  </div>\n",
              "\n",
              "\n",
              "<div id=\"df-16dd33d1-db71-4433-89d5-350e0bb34a8e\">\n",
              "  <button class=\"colab-df-quickchart\" onclick=\"quickchart('df-16dd33d1-db71-4433-89d5-350e0bb34a8e')\"\n",
              "            title=\"Suggest charts\"\n",
              "            style=\"display:none;\">\n",
              "\n",
              "<svg xmlns=\"http://www.w3.org/2000/svg\" height=\"24px\"viewBox=\"0 0 24 24\"\n",
              "     width=\"24px\">\n",
              "    <g>\n",
              "        <path d=\"M19 3H5c-1.1 0-2 .9-2 2v14c0 1.1.9 2 2 2h14c1.1 0 2-.9 2-2V5c0-1.1-.9-2-2-2zM9 17H7v-7h2v7zm4 0h-2V7h2v10zm4 0h-2v-4h2v4z\"/>\n",
              "    </g>\n",
              "</svg>\n",
              "  </button>\n",
              "\n",
              "<style>\n",
              "  .colab-df-quickchart {\n",
              "      --bg-color: #E8F0FE;\n",
              "      --fill-color: #1967D2;\n",
              "      --hover-bg-color: #E2EBFA;\n",
              "      --hover-fill-color: #174EA6;\n",
              "      --disabled-fill-color: #AAA;\n",
              "      --disabled-bg-color: #DDD;\n",
              "  }\n",
              "\n",
              "  [theme=dark] .colab-df-quickchart {\n",
              "      --bg-color: #3B4455;\n",
              "      --fill-color: #D2E3FC;\n",
              "      --hover-bg-color: #434B5C;\n",
              "      --hover-fill-color: #FFFFFF;\n",
              "      --disabled-bg-color: #3B4455;\n",
              "      --disabled-fill-color: #666;\n",
              "  }\n",
              "\n",
              "  .colab-df-quickchart {\n",
              "    background-color: var(--bg-color);\n",
              "    border: none;\n",
              "    border-radius: 50%;\n",
              "    cursor: pointer;\n",
              "    display: none;\n",
              "    fill: var(--fill-color);\n",
              "    height: 32px;\n",
              "    padding: 0;\n",
              "    width: 32px;\n",
              "  }\n",
              "\n",
              "  .colab-df-quickchart:hover {\n",
              "    background-color: var(--hover-bg-color);\n",
              "    box-shadow: 0 1px 2px rgba(60, 64, 67, 0.3), 0 1px 3px 1px rgba(60, 64, 67, 0.15);\n",
              "    fill: var(--button-hover-fill-color);\n",
              "  }\n",
              "\n",
              "  .colab-df-quickchart-complete:disabled,\n",
              "  .colab-df-quickchart-complete:disabled:hover {\n",
              "    background-color: var(--disabled-bg-color);\n",
              "    fill: var(--disabled-fill-color);\n",
              "    box-shadow: none;\n",
              "  }\n",
              "\n",
              "  .colab-df-spinner {\n",
              "    border: 2px solid var(--fill-color);\n",
              "    border-color: transparent;\n",
              "    border-bottom-color: var(--fill-color);\n",
              "    animation:\n",
              "      spin 1s steps(1) infinite;\n",
              "  }\n",
              "\n",
              "  @keyframes spin {\n",
              "    0% {\n",
              "      border-color: transparent;\n",
              "      border-bottom-color: var(--fill-color);\n",
              "      border-left-color: var(--fill-color);\n",
              "    }\n",
              "    20% {\n",
              "      border-color: transparent;\n",
              "      border-left-color: var(--fill-color);\n",
              "      border-top-color: var(--fill-color);\n",
              "    }\n",
              "    30% {\n",
              "      border-color: transparent;\n",
              "      border-left-color: var(--fill-color);\n",
              "      border-top-color: var(--fill-color);\n",
              "      border-right-color: var(--fill-color);\n",
              "    }\n",
              "    40% {\n",
              "      border-color: transparent;\n",
              "      border-right-color: var(--fill-color);\n",
              "      border-top-color: var(--fill-color);\n",
              "    }\n",
              "    60% {\n",
              "      border-color: transparent;\n",
              "      border-right-color: var(--fill-color);\n",
              "    }\n",
              "    80% {\n",
              "      border-color: transparent;\n",
              "      border-right-color: var(--fill-color);\n",
              "      border-bottom-color: var(--fill-color);\n",
              "    }\n",
              "    90% {\n",
              "      border-color: transparent;\n",
              "      border-bottom-color: var(--fill-color);\n",
              "    }\n",
              "  }\n",
              "</style>\n",
              "\n",
              "  <script>\n",
              "    async function quickchart(key) {\n",
              "      const quickchartButtonEl =\n",
              "        document.querySelector('#' + key + ' button');\n",
              "      quickchartButtonEl.disabled = true;  // To prevent multiple clicks.\n",
              "      quickchartButtonEl.classList.add('colab-df-spinner');\n",
              "      try {\n",
              "        const charts = await google.colab.kernel.invokeFunction(\n",
              "            'suggestCharts', [key], {});\n",
              "      } catch (error) {\n",
              "        console.error('Error during call to suggestCharts:', error);\n",
              "      }\n",
              "      quickchartButtonEl.classList.remove('colab-df-spinner');\n",
              "      quickchartButtonEl.classList.add('colab-df-quickchart-complete');\n",
              "    }\n",
              "    (() => {\n",
              "      let quickchartButtonEl =\n",
              "        document.querySelector('#df-16dd33d1-db71-4433-89d5-350e0bb34a8e button');\n",
              "      quickchartButtonEl.style.display =\n",
              "        google.colab.kernel.accessAllowed ? 'block' : 'none';\n",
              "    })();\n",
              "  </script>\n",
              "</div>\n",
              "\n",
              "    </div>\n",
              "  </div>\n"
            ],
            "application/vnd.google.colaboratory.intrinsic+json": {
              "type": "dataframe",
              "variable_name": "df",
              "repr_error": "'str' object has no attribute 'empty'"
            }
          },
          "metadata": {},
          "execution_count": 3
        }
      ]
    },
    {
      "cell_type": "code",
      "source": [
        "import pandas as pd\n",
        "\n",
        "# Load the dataset\n",
        "data = pd.read_csv(\"Amazon.csv\")\n",
        "\n",
        "# Explore Product Lines\n",
        "product_line_counts = data['Product_line'].value_counts()\n",
        "print(\"Frequency of Product Lines:\")\n",
        "print(product_line_counts)\n",
        "print()\n",
        "\n",
        "# Analyze Sales Performance\n",
        "sales_performance = data.groupby('Product_line')['Total'].sum().sort_values(ascending=False)\n",
        "print(\"Total Sales by Product Line:\")\n",
        "print(sales_performance)\n",
        "print()\n",
        "\n",
        "# Assess Profitability\n",
        "data['Cost_of_goods_sold'] = data['Total'] - data['Tax_5%']\n",
        "data['Gross_Income'] = data['Total'] - data['Cost_of_goods_sold']\n",
        "profitability = data.groupby('Product_line')['Gross_Income'].sum().sort_values(ascending=False)\n",
        "print(\"Total Gross Income by Product Line:\")\n",
        "print(profitability)\n",
        "print()\n",
        "\n",
        "# Calculate Gross Margin Percentage\n",
        "data['Gross_Margin_Percentage'] = (data['Gross_Income'] / data['Total']) * 100\n",
        "avg_gross_margin_percentage = data.groupby('Product_line')['Gross_Margin_Percentage'].mean()\n",
        "print(\"Average Gross Margin Percentage by Product Line:\")\n",
        "print(avg_gross_margin_percentage)\n",
        "print()\n"
      ],
      "metadata": {
        "colab": {
          "base_uri": "https://localhost:8080/"
        },
        "id": "D_ntKpjt-exR",
        "outputId": "04d155dc-7566-48d1-93dd-62358b67c2d1"
      },
      "execution_count": 4,
      "outputs": [
        {
          "output_type": "stream",
          "name": "stdout",
          "text": [
            "Frequency of Product Lines:\n",
            "Fashion accessories       178\n",
            "Food and beverages        174\n",
            "Electronic accessories    170\n",
            "Sports and travel         166\n",
            "Home and lifestyle        160\n",
            "Health and beauty         152\n",
            "Name: Product_line, dtype: int64\n",
            "\n",
            "Total Sales by Product Line:\n",
            "Product_line\n",
            "Food and beverages        56144.8440\n",
            "Sports and travel         55122.8265\n",
            "Electronic accessories    54337.5315\n",
            "Fashion accessories       54305.8950\n",
            "Home and lifestyle        53861.9130\n",
            "Health and beauty         49193.7390\n",
            "Name: Total, dtype: float64\n",
            "\n",
            "Total Gross Income by Product Line:\n",
            "Product_line\n",
            "Food and beverages        2673.5640\n",
            "Sports and travel         2624.8965\n",
            "Electronic accessories    2587.5015\n",
            "Fashion accessories       2585.9950\n",
            "Home and lifestyle        2564.8530\n",
            "Health and beauty         2342.5590\n",
            "Name: Gross_Income, dtype: float64\n",
            "\n",
            "Average Gross Margin Percentage by Product Line:\n",
            "Product_line\n",
            "Electronic accessories    4.761905\n",
            "Fashion accessories       4.761905\n",
            "Food and beverages        4.761905\n",
            "Health and beauty         4.761905\n",
            "Home and lifestyle        4.761905\n",
            "Sports and travel         4.761905\n",
            "Name: Gross_Margin_Percentage, dtype: float64\n",
            "\n"
          ]
        }
      ]
    },
    {
      "cell_type": "code",
      "source": [
        "df.isnull().sum()"
      ],
      "metadata": {
        "colab": {
          "base_uri": "https://localhost:8080/"
        },
        "id": "efQyHpLK-kRh",
        "outputId": "6c69c588-b7a5-4bfc-8542-b0c4423476d7"
      },
      "execution_count": 5,
      "outputs": [
        {
          "output_type": "execute_result",
          "data": {
            "text/plain": [
              "Invoice_ID                 0\n",
              "Branch                     0\n",
              "City                       0\n",
              "Customer_type              0\n",
              "Gender                     0\n",
              "Product_line               0\n",
              "Unit_price                 0\n",
              "Quantity                   0\n",
              "Tax_5%                     0\n",
              "Total                      0\n",
              "Date                       0\n",
              "Time                       0\n",
              "Payment                    0\n",
              "cogs                       0\n",
              "gross_margin_percentage    0\n",
              "gross_income               0\n",
              "Rating                     0\n",
              "dtype: int64"
            ]
          },
          "metadata": {},
          "execution_count": 5
        }
      ]
    },
    {
      "cell_type": "code",
      "source": [
        "import matplotlib.pyplot as plt\n",
        "\n",
        "# Load the dataset\n",
        "data = pd.read_csv(\"Amazon.csv\")\n",
        "\n",
        "# Convert 'Date' column to datetime\n",
        "data['Date'] = pd.to_datetime(data['Date'])\n",
        "\n",
        "# Time Series Analysis\n",
        "monthly_sales = data.groupby(data['Date'].dt.to_period('M'))['Total'].sum()\n",
        "plt.figure(figsize=(10, 6))\n",
        "monthly_sales.plot(kind='line', marker='o')\n",
        "plt.title('Monthly Sales Trend')\n",
        "plt.xlabel('Month')\n",
        "plt.ylabel('Total Sales')\n",
        "plt.grid(True)\n",
        "plt.show()\n",
        "\n",
        "# Product Performance\n",
        "top_selling_products = data.groupby('Product_line')['Total'].sum().sort_values(ascending=False)\n",
        "print(\"Top Selling Products:\")\n",
        "print(top_selling_products)\n",
        "print()\n",
        "\n",
        "# Branch/City Analysis\n",
        "branch_sales = data.groupby('Branch')['Total'].sum()\n",
        "city_sales = data.groupby('City')['Total'].sum().sort_values(ascending=False)\n",
        "print(\"Branch-wise Sales:\")\n",
        "print(branch_sales)\n",
        "print(\"\\nCity-wise Sales:\")\n",
        "print(city_sales)\n",
        "print()\n",
        "\n",
        "# Customer Type/Gender Analysis\n",
        "customer_type_sales = data.groupby('Customer_type')['Total'].sum()\n",
        "gender_sales = data.groupby('Gender')['Total'].sum()\n",
        "print(\"Customer Type-wise Sales:\")\n",
        "print(customer_type_sales)\n",
        "print(\"\\nGender-wise Sales:\")\n",
        "print(gender_sales)\n",
        "print()\n"
      ],
      "metadata": {
        "colab": {
          "base_uri": "https://localhost:8080/",
          "height": 1000
        },
        "id": "do0SxWe_-2vP",
        "outputId": "c0a1b011-263d-4054-dc20-3891daed75f8"
      },
      "execution_count": 6,
      "outputs": [
        {
          "output_type": "display_data",
          "data": {
            "text/plain": [
              "<Figure size 1000x600 with 1 Axes>"
            ],
            "image/png": "[encoded data removed]"
          },
          "metadata": {}
        },
        {
          "output_type": "stream",
          "name": "stdout",
          "text": [
            "Top Selling Products:\n",
            "Product_line\n",
            "Food and beverages        56144.8440\n",
            "Sports and travel         55122.8265\n",
            "Electronic accessories    54337.5315\n",
            "Fashion accessories       54305.8950\n",
            "Home and lifestyle        53861.9130\n",
            "Health and beauty         49193.7390\n",
            "Name: Total, dtype: float64\n",
            "\n",
            "Branch-wise Sales:\n",
            "Branch\n",
            "A    106200.3705\n",
            "B    106197.6720\n",
            "C    110568.7065\n",
            "Name: Total, dtype: float64\n",
            "\n",
            "City-wise Sales:\n",
            "City\n",
            "Naypyitaw    110568.7065\n",
            "Yangon       106200.3705\n",
            "Mandalay     106197.6720\n",
            "Name: Total, dtype: float64\n",
            "\n",
            "Customer Type-wise Sales:\n",
            "Customer_type\n",
            "Member    164223.444\n",
            "Normal    158743.305\n",
            "Name: Total, dtype: float64\n",
            "\n",
            "Gender-wise Sales:\n",
            "Gender\n",
            "Female    167882.925\n",
            "Male      155083.824\n",
            "Name: Total, dtype: float64\n",
            "\n"
          ]
        }
      ]
    },
    {
      "cell_type": "code",
      "source": [
        "# Calculate Cost of Goods Sold\n",
        "data['Cost_of_goods_sold'] = data['Unit_price'] * data['Quantity'] + data['Tax_5%']\n",
        "\n",
        "# Profitability Analysis\n",
        "data['Profit'] = data['Total'] - data['Cost_of_goods_sold']\n",
        "profitability_by_segment = data.groupby('Customer_type')['Profit'].sum()\n",
        "print(\"Profitability by Customer Segment:\")\n",
        "print(profitability_by_segment)\n",
        "print()\n"
      ],
      "metadata": {
        "colab": {
          "base_uri": "https://localhost:8080/"
        },
        "id": "i5o3fhmWAAQC",
        "outputId": "33920f27-ad6b-4f3e-fc1d-c304e6dc2506"
      },
      "execution_count": 8,
      "outputs": [
        {
          "output_type": "stream",
          "name": "stdout",
          "text": [
            "Profitability by Customer Segment:\n",
            "Customer_type\n",
            "Member   -1.964651e-12\n",
            "Normal    8.366641e-13\n",
            "Name: Profit, dtype: float64\n",
            "\n"
          ]
        }
      ]
    },
    {
      "cell_type": "code",
      "source": [
        "# Customer Segmentation\n",
        "customer_segments = data.groupby(['Customer_type', 'Gender'])['Total'].agg(['count', 'sum', 'mean']).reset_index()\n",
        "print(\"Customer Segments:\")\n",
        "print(customer_segments)\n",
        "print()\n",
        "\n",
        "# Purchase Trends\n",
        "purchase_trends = data.groupby('Customer_type')['Total'].agg(['count', 'sum', 'mean'])\n",
        "print(\"Purchase Trends:\")\n",
        "print(purchase_trends)\n",
        "print()\n",
        "\n",
        "# Profitability Analysis\n",
        "data['Profit'] = data['Total'] - data['Cost_of_goods_sold']\n",
        "profitability_by_segment = data.groupby('Customer_type')['Profit'].sum()\n",
        "print(\"Profitability by Customer Segment:\")\n",
        "print(profitability_by_segment)\n",
        "print()\n"
      ],
      "metadata": {
        "colab": {
          "base_uri": "https://localhost:8080/"
        },
        "id": "G82251cY_R0y",
        "outputId": "19c5f564-b79d-455b-e546-3d924af0eb7d"
      },
      "execution_count": 9,
      "outputs": [
        {
          "output_type": "stream",
          "name": "stdout",
          "text": [
            "Customer Segments:\n",
            "  Customer_type  Gender  count         sum        mean\n",
            "0        Member  Female    261  88146.9435  337.727753\n",
            "1        Member    Male    240  76076.5005  316.985419\n",
            "2        Normal  Female    240  79735.9815  332.233256\n",
            "3        Normal    Male    259  79007.3235  305.047581\n",
            "\n",
            "Purchase Trends:\n",
            "               count         sum        mean\n",
            "Customer_type                               \n",
            "Member           501  164223.444  327.791305\n",
            "Normal           499  158743.305  318.122856\n",
            "\n",
            "Profitability by Customer Segment:\n",
            "Customer_type\n",
            "Member   -1.964651e-12\n",
            "Normal    8.366641e-13\n",
            "Name: Profit, dtype: float64\n",
            "\n"
          ]
        }
      ]
    },
    {
      "cell_type": "code",
      "source": [
        "# Extract hour from the 'Time' column\n",
        "data['Hour'] = pd.to_datetime(data['Time']).dt.hour\n",
        "\n",
        "# Define function to categorize time of day\n",
        "def categorize_time_of_day(hour):\n",
        "    if 0 <= hour < 12:\n",
        "        return 'Morning'\n",
        "    elif 12 <= hour < 18:\n",
        "        return 'Afternoon'\n",
        "    else:\n",
        "        return 'Evening'\n",
        "\n",
        "# Apply function to create 'timeofday' column\n",
        "data['timeofday'] = data['Hour'].apply(categorize_time_of_day)\n",
        "\n",
        "# Display the first few rows to verify\n",
        "print(data.head())\n"
      ],
      "metadata": {
        "colab": {
          "base_uri": "https://localhost:8080/"
        },
        "id": "ozFkgCAkEkQp",
        "outputId": "ac8f1474-1509-4202-ac4a-da1e2b46c2b0"
      },
      "execution_count": 10,
      "outputs": [
        {
          "output_type": "stream",
          "name": "stdout",
          "text": [
            "    Invoice_ID Branch       City Customer_type  Gender  \\\n",
            "0  750-67-8428      A     Yangon        Member  Female   \n",
            "1  226-31-3081      C  Naypyitaw        Normal  Female   \n",
            "2  631-41-3108      A     Yangon        Normal    Male   \n",
            "3  123-19-1176      A     Yangon        Member    Male   \n",
            "4  373-73-7910      A     Yangon        Normal    Male   \n",
            "\n",
            "             Product_line  Unit_price  Quantity   Tax_5%     Total  ...  \\\n",
            "0       Health and beauty       74.69         7  26.1415  548.9715  ...   \n",
            "1  Electronic accessories       15.28         5   3.8200   80.2200  ...   \n",
            "2      Home and lifestyle       46.33         7  16.2155  340.5255  ...   \n",
            "3       Health and beauty       58.22         8  23.2880  489.0480  ...   \n",
            "4       Sports and travel       86.31         7  30.2085  634.3785  ...   \n",
            "\n",
            "       Time      Payment    cogs  gross_margin_percentage  gross_income  \\\n",
            "0  13:08:00      Ewallet  522.83                 4.761905       26.1415   \n",
            "1  10:29:00         Cash   76.40                 4.761905        3.8200   \n",
            "2  13:23:00  Credit card  324.31                 4.761905       16.2155   \n",
            "3  20:33:00      Ewallet  465.76                 4.761905       23.2880   \n",
            "4  10:37:00      Ewallet  604.17                 4.761905       30.2085   \n",
            "\n",
            "   Rating  Cost_of_goods_sold        Profit  Hour  timeofday  \n",
            "0     9.1            548.9715  1.136868e-13    13  Afternoon  \n",
            "1     9.6             80.2200  1.421085e-14    10    Morning  \n",
            "2     7.4            340.5255  0.000000e+00    13  Afternoon  \n",
            "3     8.4            489.0480  0.000000e+00    20    Evening  \n",
            "4     5.3            634.3785  0.000000e+00    10    Morning  \n",
            "\n",
            "[5 rows x 21 columns]\n"
          ]
        }
      ]
    },
    {
      "cell_type": "code",
      "source": [
        "data.head()"
      ],
      "metadata": {
        "colab": {
          "base_uri": "https://localhost:8080/",
          "height": 342
        },
        "id": "XuIFw51UEywA",
        "outputId": "6248e0fb-2bb6-4917-ffd5-e330ef841b18"
      },
      "execution_count": 12,
      "outputs": [
        {
          "output_type": "execute_result",
          "data": {
            "text/plain": [
              "    Invoice_ID Branch       City Customer_type  Gender  \\\n",
              "0  750-67-8428      A     Yangon        Member  Female   \n",
              "1  226-31-3081      C  Naypyitaw        Normal  Female   \n",
              "2  631-41-3108      A     Yangon        Normal    Male   \n",
              "3  123-19-1176      A     Yangon        Member    Male   \n",
              "4  373-73-7910      A     Yangon        Normal    Male   \n",
              "\n",
              "             Product_line  Unit_price  Quantity   Tax_5%     Total  ...  \\\n",
              "0       Health and beauty       74.69         7  26.1415  548.9715  ...   \n",
              "1  Electronic accessories       15.28         5   3.8200   80.2200  ...   \n",
              "2      Home and lifestyle       46.33         7  16.2155  340.5255  ...   \n",
              "3       Health and beauty       58.22         8  23.2880  489.0480  ...   \n",
              "4       Sports and travel       86.31         7  30.2085  634.3785  ...   \n",
              "\n",
              "       Time      Payment    cogs  gross_margin_percentage  gross_income  \\\n",
              "0  13:08:00      Ewallet  522.83                 4.761905       26.1415   \n",
              "1  10:29:00         Cash   76.40                 4.761905        3.8200   \n",
              "2  13:23:00  Credit card  324.31                 4.761905       16.2155   \n",
              "3  20:33:00      Ewallet  465.76                 4.761905       23.2880   \n",
              "4  10:37:00      Ewallet  604.17                 4.761905       30.2085   \n",
              "\n",
              "   Rating  Cost_of_goods_sold        Profit  Hour  timeofday  \n",
              "0     9.1            548.9715  1.136868e-13    13  Afternoon  \n",
              "1     9.6             80.2200  1.421085e-14    10    Morning  \n",
              "2     7.4            340.5255  0.000000e+00    13  Afternoon  \n",
              "3     8.4            489.0480  0.000000e+00    20    Evening  \n",
              "4     5.3            634.3785  0.000000e+00    10    Morning  \n",
              "\n",
              "[5 rows x 21 columns]"
            ],
            "text/html": [
              "\n",
              "  <div id=\"df-864a3601-40b6-439f-8470-4fa5fd7ddd4e\" class=\"colab-df-container\">\n",
              "    <div>\n",
              "<style scoped>\n",
              "    .dataframe tbody tr th:only-of-type {\n",
              "        vertical-align: middle;\n",
              "    }\n",
              "\n",
              "    .dataframe tbody tr th {\n",
              "        vertical-align: top;\n",
              "    }\n",
              "\n",
              "    .dataframe thead th {\n",
              "        text-align: right;\n",
              "    }\n",
              "</style>\n",
              "<table border=\"1\" class=\"dataframe\">\n",
              "  <thead>\n",
              "    <tr style=\"text-align: right;\">\n",
              "      <th></th>\n",
              "      <th>Invoice_ID</th>\n",
              "      <th>Branch</th>\n",
              "      <th>City</th>\n",
              "      <th>Customer_type</th>\n",
              "      <th>Gender</th>\n",
              "      <th>Product_line</th>\n",
              "      <th>Unit_price</th>\n",
              "      <th>Quantity</th>\n",
              "      <th>Tax_5%</th>\n",
              "      <th>Total</th>\n",
              "      <th>...</th>\n",
              "      <th>Time</th>\n",
              "      <th>Payment</th>\n",
              "      <th>cogs</th>\n",
              "      <th>gross_margin_percentage</th>\n",
              "      <th>gross_income</th>\n",
              "      <th>Rating</th>\n",
              "      <th>Cost_of_goods_sold</th>\n",
              "      <th>Profit</th>\n",
              "      <th>Hour</th>\n",
              "      <th>timeofday</th>\n",
              "    </tr>\n",
              "  </thead>\n",
              "  <tbody>\n",
              "    <tr>\n",
              "      <th>0</th>\n",
              "      <td>750-67-8428</td>\n",
              "      <td>A</td>\n",
              "      <td>Yangon</td>\n",
              "      <td>Member</td>\n",
              "      <td>Female</td>\n",
              "      <td>Health and beauty</td>\n",
              "      <td>74.69</td>\n",
              "      <td>7</td>\n",
              "      <td>26.1415</td>\n",
              "      <td>548.9715</td>\n",
              "      <td>...</td>\n",
              "      <td>13:08:00</td>\n",
              "      <td>Ewallet</td>\n",
              "      <td>522.83</td>\n",
              "      <td>4.761905</td>\n",
              "      <td>26.1415</td>\n",
              "      <td>9.1</td>\n",
              "      <td>548.9715</td>\n",
              "      <td>1.136868e-13</td>\n",
              "      <td>13</td>\n",
              "      <td>Afternoon</td>\n",
              "    </tr>\n",
              "    <tr>\n",
              "      <th>1</th>\n",
              "      <td>226-31-3081</td>\n",
              "      <td>C</td>\n",
              "      <td>Naypyitaw</td>\n",
              "      <td>Normal</td>\n",
              "      <td>Female</td>\n",
              "      <td>Electronic accessories</td>\n",
              "      <td>15.28</td>\n",
              "      <td>5</td>\n",
              "      <td>3.8200</td>\n",
              "      <td>80.2200</td>\n",
              "      <td>...</td>\n",
              "      <td>10:29:00</td>\n",
              "      <td>Cash</td>\n",
              "      <td>76.40</td>\n",
              "      <td>4.761905</td>\n",
              "      <td>3.8200</td>\n",
              "      <td>9.6</td>\n",
              "      <td>80.2200</td>\n",
              "      <td>1.421085e-14</td>\n",
              "      <td>10</td>\n",
              "      <td>Morning</td>\n",
              "    </tr>\n",
              "    <tr>\n",
              "      <th>2</th>\n",
              "      <td>631-41-3108</td>\n",
              "      <td>A</td>\n",
              "      <td>Yangon</td>\n",
              "      <td>Normal</td>\n",
              "      <td>Male</td>\n",
              "      <td>Home and lifestyle</td>\n",
              "      <td>46.33</td>\n",
              "      <td>7</td>\n",
              "      <td>16.2155</td>\n",
              "      <td>340.5255</td>\n",
              "      <td>...</td>\n",
              "      <td>13:23:00</td>\n",
              "      <td>Credit card</td>\n",
              "      <td>324.31</td>\n",
              "      <td>4.761905</td>\n",
              "      <td>16.2155</td>\n",
              "      <td>7.4</td>\n",
              "      <td>340.5255</td>\n",
              "      <td>0.000000e+00</td>\n",
              "      <td>13</td>\n",
              "      <td>Afternoon</td>\n",
              "    </tr>\n",
              "    <tr>\n",
              "      <th>3</th>\n",
              "      <td>123-19-1176</td>\n",
              "      <td>A</td>\n",
              "      <td>Yangon</td>\n",
              "      <td>Member</td>\n",
              "      <td>Male</td>\n",
              "      <td>Health and beauty</td>\n",
              "      <td>58.22</td>\n",
              "      <td>8</td>\n",
              "      <td>23.2880</td>\n",
              "      <td>489.0480</td>\n",
              "      <td>...</td>\n",
              "      <td>20:33:00</td>\n",
              "      <td>Ewallet</td>\n",
              "      <td>465.76</td>\n",
              "      <td>4.761905</td>\n",
              "      <td>23.2880</td>\n",
              "      <td>8.4</td>\n",
              "      <td>489.0480</td>\n",
              "      <td>0.000000e+00</td>\n",
              "      <td>20</td>\n",
              "      <td>Evening</td>\n",
              "    </tr>\n",
              "    <tr>\n",
              "      <th>4</th>\n",
              "      <td>373-73-7910</td>\n",
              "      <td>A</td>\n",
              "      <td>Yangon</td>\n",
              "      <td>Normal</td>\n",
              "      <td>Male</td>\n",
              "      <td>Sports and travel</td>\n",
              "      <td>86.31</td>\n",
              "      <td>7</td>\n",
              "      <td>30.2085</td>\n",
              "      <td>634.3785</td>\n",
              "      <td>...</td>\n",
              "      <td>10:37:00</td>\n",
              "      <td>Ewallet</td>\n",
              "      <td>604.17</td>\n",
              "      <td>4.761905</td>\n",
              "      <td>30.2085</td>\n",
              "      <td>5.3</td>\n",
              "      <td>634.3785</td>\n",
              "      <td>0.000000e+00</td>\n",
              "      <td>10</td>\n",
              "      <td>Morning</td>\n",
              "    </tr>\n",
              "  </tbody>\n",
              "</table>\n",
              "<p>5 rows × 21 columns</p>\n",
              "</div>\n",
              "    <div class=\"colab-df-buttons\">\n",
              "\n",
              "  <div class=\"colab-df-container\">\n",
              "    <button class=\"colab-df-convert\" onclick=\"convertToInteractive('df-864a3601-40b6-439f-8470-4fa5fd7ddd4e')\"\n",
              "            title=\"Convert this dataframe to an interactive table.\"\n",
              "            style=\"display:none;\">\n",
              "\n",
              "  <svg xmlns=\"http://www.w3.org/2000/svg\" height=\"24px\" viewBox=\"0 -960 960 960\">\n",
              "    <path d=\"M120-120v-720h720v720H120Zm60-500h600v-160H180v160Zm220 220h160v-160H400v160Zm0 220h160v-160H400v160ZM180-400h160v-160H180v160Zm440 0h160v-160H620v160ZM180-180h160v-160H180v160Zm440 0h160v-160H620v160Z\"/>\n",
              "  </svg>\n",
              "    </button>\n",
              "\n",
              "  <style>\n",
              "    .colab-df-container {\n",
              "      display:flex;\n",
              "      gap: 12px;\n",
              "    }\n",
              "\n",
              "    .colab-df-convert {\n",
              "      background-color: #E8F0FE;\n",
              "      border: none;\n",
              "      border-radius: 50%;\n",
              "      cursor: pointer;\n",
              "      display: none;\n",
              "      fill: #1967D2;\n",
              "      height: 32px;\n",
              "      padding: 0 0 0 0;\n",
              "      width: 32px;\n",
              "    }\n",
              "\n",
              "    .colab-df-convert:hover {\n",
              "      background-color: #E2EBFA;\n",
              "      box-shadow: 0px 1px 2px rgba(60, 64, 67, 0.3), 0px 1px 3px 1px rgba(60, 64, 67, 0.15);\n",
              "      fill: #174EA6;\n",
              "    }\n",
              "\n",
              "    .colab-df-buttons div {\n",
              "      margin-bottom: 4px;\n",
              "    }\n",
              "\n",
              "    [theme=dark] .colab-df-convert {\n",
              "      background-color: #3B4455;\n",
              "      fill: #D2E3FC;\n",
              "    }\n",
              "\n",
              "    [theme=dark] .colab-df-convert:hover {\n",
              "      background-color: #434B5C;\n",
              "      box-shadow: 0px 1px 3px 1px rgba(0, 0, 0, 0.15);\n",
              "      filter: drop-shadow(0px 1px 2px rgba(0, 0, 0, 0.3));\n",
              "      fill: #FFFFFF;\n",
              "    }\n",
              "  </style>\n",
              "\n",
              "    <script>\n",
              "      const buttonEl =\n",
              "        document.querySelector('#df-864a3601-40b6-439f-8470-4fa5fd7ddd4e button.colab-df-convert');\n",
              "      buttonEl.style.display =\n",
              "        google.colab.kernel.accessAllowed ? 'block' : 'none';\n",
              "\n",
              "      async function convertToInteractive(key) {\n",
              "        const element = document.querySelector('#df-864a3601-40b6-439f-8470-4fa5fd7ddd4e');\n",
              "        const dataTable =\n",
              "          await google.colab.kernel.invokeFunction('convertToInteractive',\n",
              "                                                    [key], {});\n",
              "        if (!dataTable) return;\n",
              "\n",
              "        const docLinkHtml = 'Like what you see? Visit the ' +\n",
              "          '<a target=\"_blank\" href=https://colab.research.google.com/notebooks/data_table.ipynb>data table notebook</a>'\n",
              "          + ' to learn more about interactive tables.';\n",
              "        element.innerHTML = '';\n",
              "        dataTable['output_type'] = 'display_data';\n",
              "        await google.colab.output.renderOutput(dataTable, element);\n",
              "        const docLink = document.createElement('div');\n",
              "        docLink.innerHTML = docLinkHtml;\n",
              "        element.appendChild(docLink);\n",
              "      }\n",
              "    </script>\n",
              "  </div>\n",
              "\n",
              "\n",
              "<div id=\"df-b5774144-8cc0-4a31-a7f7-f03bbdbf3846\">\n",
              "  <button class=\"colab-df-quickchart\" onclick=\"quickchart('df-b5774144-8cc0-4a31-a7f7-f03bbdbf3846')\"\n",
              "            title=\"Suggest charts\"\n",
              "            style=\"display:none;\">\n",
              "\n",
              "<svg xmlns=\"http://www.w3.org/2000/svg\" height=\"24px\"viewBox=\"0 0 24 24\"\n",
              "     width=\"24px\">\n",
              "    <g>\n",
              "        <path d=\"M19 3H5c-1.1 0-2 .9-2 2v14c0 1.1.9 2 2 2h14c1.1 0 2-.9 2-2V5c0-1.1-.9-2-2-2zM9 17H7v-7h2v7zm4 0h-2V7h2v10zm4 0h-2v-4h2v4z\"/>\n",
              "    </g>\n",
              "</svg>\n",
              "  </button>\n",
              "\n",
              "<style>\n",
              "  .colab-df-quickchart {\n",
              "      --bg-color: #E8F0FE;\n",
              "      --fill-color: #1967D2;\n",
              "      --hover-bg-color: #E2EBFA;\n",
              "      --hover-fill-color: #174EA6;\n",
              "      --disabled-fill-color: #AAA;\n",
              "      --disabled-bg-color: #DDD;\n",
              "  }\n",
              "\n",
              "  [theme=dark] .colab-df-quickchart {\n",
              "      --bg-color: #3B4455;\n",
              "      --fill-color: #D2E3FC;\n",
              "      --hover-bg-color: #434B5C;\n",
              "      --hover-fill-color: #FFFFFF;\n",
              "      --disabled-bg-color: #3B4455;\n",
              "      --disabled-fill-color: #666;\n",
              "  }\n",
              "\n",
              "  .colab-df-quickchart {\n",
              "    background-color: var(--bg-color);\n",
              "    border: none;\n",
              "    border-radius: 50%;\n",
              "    cursor: pointer;\n",
              "    display: none;\n",
              "    fill: var(--fill-color);\n",
              "    height: 32px;\n",
              "    padding: 0;\n",
              "    width: 32px;\n",
              "  }\n",
              "\n",
              "  .colab-df-quickchart:hover {\n",
              "    background-color: var(--hover-bg-color);\n",
              "    box-shadow: 0 1px 2px rgba(60, 64, 67, 0.3), 0 1px 3px 1px rgba(60, 64, 67, 0.15);\n",
              "    fill: var(--button-hover-fill-color);\n",
              "  }\n",
              "\n",
              "  .colab-df-quickchart-complete:disabled,\n",
              "  .colab-df-quickchart-complete:disabled:hover {\n",
              "    background-color: var(--disabled-bg-color);\n",
              "    fill: var(--disabled-fill-color);\n",
              "    box-shadow: none;\n",
              "  }\n",
              "\n",
              "  .colab-df-spinner {\n",
              "    border: 2px solid var(--fill-color);\n",
              "    border-color: transparent;\n",
              "    border-bottom-color: var(--fill-color);\n",
              "    animation:\n",
              "      spin 1s steps(1) infinite;\n",
              "  }\n",
              "\n",
              "  @keyframes spin {\n",
              "    0% {\n",
              "      border-color: transparent;\n",
              "      border-bottom-color: var(--fill-color);\n",
              "      border-left-color: var(--fill-color);\n",
              "    }\n",
              "    20% {\n",
              "      border-color: transparent;\n",
              "      border-left-color: var(--fill-color);\n",
              "      border-top-color: var(--fill-color);\n",
              "    }\n",
              "    30% {\n",
              "      border-color: transparent;\n",
              "      border-left-color: var(--fill-color);\n",
              "      border-top-color: var(--fill-color);\n",
              "      border-right-color: var(--fill-color);\n",
              "    }\n",
              "    40% {\n",
              "      border-color: transparent;\n",
              "      border-right-color: var(--fill-color);\n",
              "      border-top-color: var(--fill-color);\n",
              "    }\n",
              "    60% {\n",
              "      border-color: transparent;\n",
              "      border-right-color: var(--fill-color);\n",
              "    }\n",
              "    80% {\n",
              "      border-color: transparent;\n",
              "      border-right-color: var(--fill-color);\n",
              "      border-bottom-color: var(--fill-color);\n",
              "    }\n",
              "    90% {\n",
              "      border-color: transparent;\n",
              "      border-bottom-color: var(--fill-color);\n",
              "    }\n",
              "  }\n",
              "</style>\n",
              "\n",
              "  <script>\n",
              "    async function quickchart(key) {\n",
              "      const quickchartButtonEl =\n",
              "        document.querySelector('#' + key + ' button');\n",
              "      quickchartButtonEl.disabled = true;  // To prevent multiple clicks.\n",
              "      quickchartButtonEl.classList.add('colab-df-spinner');\n",
              "      try {\n",
              "        const charts = await google.colab.kernel.invokeFunction(\n",
              "            'suggestCharts', [key], {});\n",
              "      } catch (error) {\n",
              "        console.error('Error during call to suggestCharts:', error);\n",
              "      }\n",
              "      quickchartButtonEl.classList.remove('colab-df-spinner');\n",
              "      quickchartButtonEl.classList.add('colab-df-quickchart-complete');\n",
              "    }\n",
              "    (() => {\n",
              "      let quickchartButtonEl =\n",
              "        document.querySelector('#df-b5774144-8cc0-4a31-a7f7-f03bbdbf3846 button');\n",
              "      quickchartButtonEl.style.display =\n",
              "        google.colab.kernel.accessAllowed ? 'block' : 'none';\n",
              "    })();\n",
              "  </script>\n",
              "</div>\n",
              "\n",
              "    </div>\n",
              "  </div>\n"
            ],
            "application/vnd.google.colaboratory.intrinsic+json": {
              "type": "dataframe",
              "variable_name": "data"
            }
          },
          "metadata": {},
          "execution_count": 12
        }
      ]
    },
    {
      "cell_type": "code",
      "source": [
        "# Extract day name from the 'Date' column\n",
        "data['dayname'] = pd.to_datetime(data['Date']).dt.day_name()\n",
        "\n",
        "# Display the first few rows to verify\n",
        "print(data.head())\n"
      ],
      "metadata": {
        "colab": {
          "base_uri": "https://localhost:8080/"
        },
        "id": "wEIL30rPE6Jo",
        "outputId": "1a11ea05-2334-48d8-a2aa-fe7f2e501951"
      },
      "execution_count": 13,
      "outputs": [
        {
          "output_type": "stream",
          "name": "stdout",
          "text": [
            "    Invoice_ID Branch       City Customer_type  Gender  \\\n",
            "0  750-67-8428      A     Yangon        Member  Female   \n",
            "1  226-31-3081      C  Naypyitaw        Normal  Female   \n",
            "2  631-41-3108      A     Yangon        Normal    Male   \n",
            "3  123-19-1176      A     Yangon        Member    Male   \n",
            "4  373-73-7910      A     Yangon        Normal    Male   \n",
            "\n",
            "             Product_line  Unit_price  Quantity   Tax_5%     Total  ...  \\\n",
            "0       Health and beauty       74.69         7  26.1415  548.9715  ...   \n",
            "1  Electronic accessories       15.28         5   3.8200   80.2200  ...   \n",
            "2      Home and lifestyle       46.33         7  16.2155  340.5255  ...   \n",
            "3       Health and beauty       58.22         8  23.2880  489.0480  ...   \n",
            "4       Sports and travel       86.31         7  30.2085  634.3785  ...   \n",
            "\n",
            "       Payment    cogs gross_margin_percentage  gross_income  Rating  \\\n",
            "0      Ewallet  522.83                4.761905       26.1415     9.1   \n",
            "1         Cash   76.40                4.761905        3.8200     9.6   \n",
            "2  Credit card  324.31                4.761905       16.2155     7.4   \n",
            "3      Ewallet  465.76                4.761905       23.2880     8.4   \n",
            "4      Ewallet  604.17                4.761905       30.2085     5.3   \n",
            "\n",
            "   Cost_of_goods_sold        Profit  Hour  timeofday   dayname  \n",
            "0            548.9715  1.136868e-13    13  Afternoon  Saturday  \n",
            "1             80.2200  1.421085e-14    10    Morning    Friday  \n",
            "2            340.5255  0.000000e+00    13  Afternoon    Sunday  \n",
            "3            489.0480  0.000000e+00    20    Evening    Sunday  \n",
            "4            634.3785  0.000000e+00    10    Morning    Friday  \n",
            "\n",
            "[5 rows x 22 columns]\n"
          ]
        }
      ]
    },
    {
      "cell_type": "code",
      "source": [
        "data.head()"
      ],
      "metadata": {
        "colab": {
          "base_uri": "https://localhost:8080/",
          "height": 342
        },
        "id": "r9d3vtz9FHup",
        "outputId": "19c103e2-64bf-4722-cc51-4c460a85081d"
      },
      "execution_count": 14,
      "outputs": [
        {
          "output_type": "execute_result",
          "data": {
            "text/plain": [
              "    Invoice_ID Branch       City Customer_type  Gender  \\\n",
              "0  750-67-8428      A     Yangon        Member  Female   \n",
              "1  226-31-3081      C  Naypyitaw        Normal  Female   \n",
              "2  631-41-3108      A     Yangon        Normal    Male   \n",
              "3  123-19-1176      A     Yangon        Member    Male   \n",
              "4  373-73-7910      A     Yangon        Normal    Male   \n",
              "\n",
              "             Product_line  Unit_price  Quantity   Tax_5%     Total  ...  \\\n",
              "0       Health and beauty       74.69         7  26.1415  548.9715  ...   \n",
              "1  Electronic accessories       15.28         5   3.8200   80.2200  ...   \n",
              "2      Home and lifestyle       46.33         7  16.2155  340.5255  ...   \n",
              "3       Health and beauty       58.22         8  23.2880  489.0480  ...   \n",
              "4       Sports and travel       86.31         7  30.2085  634.3785  ...   \n",
              "\n",
              "       Payment    cogs gross_margin_percentage  gross_income  Rating  \\\n",
              "0      Ewallet  522.83                4.761905       26.1415     9.1   \n",
              "1         Cash   76.40                4.761905        3.8200     9.6   \n",
              "2  Credit card  324.31                4.761905       16.2155     7.4   \n",
              "3      Ewallet  465.76                4.761905       23.2880     8.4   \n",
              "4      Ewallet  604.17                4.761905       30.2085     5.3   \n",
              "\n",
              "   Cost_of_goods_sold        Profit  Hour  timeofday   dayname  \n",
              "0            548.9715  1.136868e-13    13  Afternoon  Saturday  \n",
              "1             80.2200  1.421085e-14    10    Morning    Friday  \n",
              "2            340.5255  0.000000e+00    13  Afternoon    Sunday  \n",
              "3            489.0480  0.000000e+00    20    Evening    Sunday  \n",
              "4            634.3785  0.000000e+00    10    Morning    Friday  \n",
              "\n",
              "[5 rows x 22 columns]"
            ],
            "text/html": [
              "\n",
              "  <div id=\"df-f969089c-89ff-49ac-a79d-98f9926f8cb1\" class=\"colab-df-container\">\n",
              "    <div>\n",
              "<style scoped>\n",
              "    .dataframe tbody tr th:only-of-type {\n",
              "        vertical-align: middle;\n",
              "    }\n",
              "\n",
              "    .dataframe tbody tr th {\n",
              "        vertical-align: top;\n",
              "    }\n",
              "\n",
              "    .dataframe thead th {\n",
              "        text-align: right;\n",
              "    }\n",
              "</style>\n",
              "<table border=\"1\" class=\"dataframe\">\n",
              "  <thead>\n",
              "    <tr style=\"text-align: right;\">\n",
              "      <th></th>\n",
              "      <th>Invoice_ID</th>\n",
              "      <th>Branch</th>\n",
              "      <th>City</th>\n",
              "      <th>Customer_type</th>\n",
              "      <th>Gender</th>\n",
              "      <th>Product_line</th>\n",
              "      <th>Unit_price</th>\n",
              "      <th>Quantity</th>\n",
              "      <th>Tax_5%</th>\n",
              "      <th>Total</th>\n",
              "      <th>...</th>\n",
              "      <th>Payment</th>\n",
              "      <th>cogs</th>\n",
              "      <th>gross_margin_percentage</th>\n",
              "      <th>gross_income</th>\n",
              "      <th>Rating</th>\n",
              "      <th>Cost_of_goods_sold</th>\n",
              "      <th>Profit</th>\n",
              "      <th>Hour</th>\n",
              "      <th>timeofday</th>\n",
              "      <th>dayname</th>\n",
              "    </tr>\n",
              "  </thead>\n",
              "  <tbody>\n",
              "    <tr>\n",
              "      <th>0</th>\n",
              "      <td>750-67-8428</td>\n",
              "      <td>A</td>\n",
              "      <td>Yangon</td>\n",
              "      <td>Member</td>\n",
              "      <td>Female</td>\n",
              "      <td>Health and beauty</td>\n",
              "      <td>74.69</td>\n",
              "      <td>7</td>\n",
              "      <td>26.1415</td>\n",
              "      <td>548.9715</td>\n",
              "      <td>...</td>\n",
              "      <td>Ewallet</td>\n",
              "      <td>522.83</td>\n",
              "      <td>4.761905</td>\n",
              "      <td>26.1415</td>\n",
              "      <td>9.1</td>\n",
              "      <td>548.9715</td>\n",
              "      <td>1.136868e-13</td>\n",
              "      <td>13</td>\n",
              "      <td>Afternoon</td>\n",
              "      <td>Saturday</td>\n",
              "    </tr>\n",
              "    <tr>\n",
              "      <th>1</th>\n",
              "      <td>226-31-3081</td>\n",
              "      <td>C</td>\n",
              "      <td>Naypyitaw</td>\n",
              "      <td>Normal</td>\n",
              "      <td>Female</td>\n",
              "      <td>Electronic accessories</td>\n",
              "      <td>15.28</td>\n",
              "      <td>5</td>\n",
              "      <td>3.8200</td>\n",
              "      <td>80.2200</td>\n",
              "      <td>...</td>\n",
              "      <td>Cash</td>\n",
              "      <td>76.40</td>\n",
              "      <td>4.761905</td>\n",
              "      <td>3.8200</td>\n",
              "      <td>9.6</td>\n",
              "      <td>80.2200</td>\n",
              "      <td>1.421085e-14</td>\n",
              "      <td>10</td>\n",
              "      <td>Morning</td>\n",
              "      <td>Friday</td>\n",
              "    </tr>\n",
              "    <tr>\n",
              "      <th>2</th>\n",
              "      <td>631-41-3108</td>\n",
              "      <td>A</td>\n",
              "      <td>Yangon</td>\n",
              "      <td>Normal</td>\n",
              "      <td>Male</td>\n",
              "      <td>Home and lifestyle</td>\n",
              "      <td>46.33</td>\n",
              "      <td>7</td>\n",
              "      <td>16.2155</td>\n",
              "      <td>340.5255</td>\n",
              "      <td>...</td>\n",
              "      <td>Credit card</td>\n",
              "      <td>324.31</td>\n",
              "      <td>4.761905</td>\n",
              "      <td>16.2155</td>\n",
              "      <td>7.4</td>\n",
              "      <td>340.5255</td>\n",
              "      <td>0.000000e+00</td>\n",
              "      <td>13</td>\n",
              "      <td>Afternoon</td>\n",
              "      <td>Sunday</td>\n",
              "    </tr>\n",
              "    <tr>\n",
              "      <th>3</th>\n",
              "      <td>123-19-1176</td>\n",
              "      <td>A</td>\n",
              "      <td>Yangon</td>\n",
              "      <td>Member</td>\n",
              "      <td>Male</td>\n",
              "      <td>Health and beauty</td>\n",
              "      <td>58.22</td>\n",
              "      <td>8</td>\n",
              "      <td>23.2880</td>\n",
              "      <td>489.0480</td>\n",
              "      <td>...</td>\n",
              "      <td>Ewallet</td>\n",
              "      <td>465.76</td>\n",
              "      <td>4.761905</td>\n",
              "      <td>23.2880</td>\n",
              "      <td>8.4</td>\n",
              "      <td>489.0480</td>\n",
              "      <td>0.000000e+00</td>\n",
              "      <td>20</td>\n",
              "      <td>Evening</td>\n",
              "      <td>Sunday</td>\n",
              "    </tr>\n",
              "    <tr>\n",
              "      <th>4</th>\n",
              "      <td>373-73-7910</td>\n",
              "      <td>A</td>\n",
              "      <td>Yangon</td>\n",
              "      <td>Normal</td>\n",
              "      <td>Male</td>\n",
              "      <td>Sports and travel</td>\n",
              "      <td>86.31</td>\n",
              "      <td>7</td>\n",
              "      <td>30.2085</td>\n",
              "      <td>634.3785</td>\n",
              "      <td>...</td>\n",
              "      <td>Ewallet</td>\n",
              "      <td>604.17</td>\n",
              "      <td>4.761905</td>\n",
              "      <td>30.2085</td>\n",
              "      <td>5.3</td>\n",
              "      <td>634.3785</td>\n",
              "      <td>0.000000e+00</td>\n",
              "      <td>10</td>\n",
              "      <td>Morning</td>\n",
              "      <td>Friday</td>\n",
              "    </tr>\n",
              "  </tbody>\n",
              "</table>\n",
              "<p>5 rows × 22 columns</p>\n",
              "</div>\n",
              "    <div class=\"colab-df-buttons\">\n",
              "\n",
              "  <div class=\"colab-df-container\">\n",
              "    <button class=\"colab-df-convert\" onclick=\"convertToInteractive('df-f969089c-89ff-49ac-a79d-98f9926f8cb1')\"\n",
              "            title=\"Convert this dataframe to an interactive table.\"\n",
              "            style=\"display:none;\">\n",
              "\n",
              "  <svg xmlns=\"http://www.w3.org/2000/svg\" height=\"24px\" viewBox=\"0 -960 960 960\">\n",
              "    <path d=\"M120-120v-720h720v720H120Zm60-500h600v-160H180v160Zm220 220h160v-160H400v160Zm0 220h160v-160H400v160ZM180-400h160v-160H180v160Zm440 0h160v-160H620v160ZM180-180h160v-160H180v160Zm440 0h160v-160H620v160Z\"/>\n",
              "  </svg>\n",
              "    </button>\n",
              "\n",
              "  <style>\n",
              "    .colab-df-container {\n",
              "      display:flex;\n",
              "      gap: 12px;\n",
              "    }\n",
              "\n",
              "    .colab-df-convert {\n",
              "      background-color: #E8F0FE;\n",
              "      border: none;\n",
              "      border-radius: 50%;\n",
              "      cursor: pointer;\n",
              "      display: none;\n",
              "      fill: #1967D2;\n",
              "      height: 32px;\n",
              "      padding: 0 0 0 0;\n",
              "      width: 32px;\n",
              "    }\n",
              "\n",
              "    .colab-df-convert:hover {\n",
              "      background-color: #E2EBFA;\n",
              "      box-shadow: 0px 1px 2px rgba(60, 64, 67, 0.3), 0px 1px 3px 1px rgba(60, 64, 67, 0.15);\n",
              "      fill: #174EA6;\n",
              "    }\n",
              "\n",
              "    .colab-df-buttons div {\n",
              "      margin-bottom: 4px;\n",
              "    }\n",
              "\n",
              "    [theme=dark] .colab-df-convert {\n",
              "      background-color: #3B4455;\n",
              "      fill: #D2E3FC;\n",
              "    }\n",
              "\n",
              "    [theme=dark] .colab-df-convert:hover {\n",
              "      background-color: #434B5C;\n",
              "      box-shadow: 0px 1px 3px 1px rgba(0, 0, 0, 0.15);\n",
              "      filter: drop-shadow(0px 1px 2px rgba(0, 0, 0, 0.3));\n",
              "      fill: #FFFFFF;\n",
              "    }\n",
              "  </style>\n",
              "\n",
              "    <script>\n",
              "      const buttonEl =\n",
              "        document.querySelector('#df-f969089c-89ff-49ac-a79d-98f9926f8cb1 button.colab-df-convert');\n",
              "      buttonEl.style.display =\n",
              "        google.colab.kernel.accessAllowed ? 'block' : 'none';\n",
              "\n",
              "      async function convertToInteractive(key) {\n",
              "        const element = document.querySelector('#df-f969089c-89ff-49ac-a79d-98f9926f8cb1');\n",
              "        const dataTable =\n",
              "          await google.colab.kernel.invokeFunction('convertToInteractive',\n",
              "                                                    [key], {});\n",
              "        if (!dataTable) return;\n",
              "\n",
              "        const docLinkHtml = 'Like what you see? Visit the ' +\n",
              "          '<a target=\"_blank\" href=https://colab.research.google.com/notebooks/data_table.ipynb>data table notebook</a>'\n",
              "          + ' to learn more about interactive tables.';\n",
              "        element.innerHTML = '';\n",
              "        dataTable['output_type'] = 'display_data';\n",
              "        await google.colab.output.renderOutput(dataTable, element);\n",
              "        const docLink = document.createElement('div');\n",
              "        docLink.innerHTML = docLinkHtml;\n",
              "        element.appendChild(docLink);\n",
              "      }\n",
              "    </script>\n",
              "  </div>\n",
              "\n",
              "\n",
              "<div id=\"df-4e27109f-da41-4452-af69-9e5b22e741f1\">\n",
              "  <button class=\"colab-df-quickchart\" onclick=\"quickchart('df-4e27109f-da41-4452-af69-9e5b22e741f1')\"\n",
              "            title=\"Suggest charts\"\n",
              "            style=\"display:none;\">\n",
              "\n",
              "<svg xmlns=\"http://www.w3.org/2000/svg\" height=\"24px\"viewBox=\"0 0 24 24\"\n",
              "     width=\"24px\">\n",
              "    <g>\n",
              "        <path d=\"M19 3H5c-1.1 0-2 .9-2 2v14c0 1.1.9 2 2 2h14c1.1 0 2-.9 2-2V5c0-1.1-.9-2-2-2zM9 17H7v-7h2v7zm4 0h-2V7h2v10zm4 0h-2v-4h2v4z\"/>\n",
              "    </g>\n",
              "</svg>\n",
              "  </button>\n",
              "\n",
              "<style>\n",
              "  .colab-df-quickchart {\n",
              "      --bg-color: #E8F0FE;\n",
              "      --fill-color: #1967D2;\n",
              "      --hover-bg-color: #E2EBFA;\n",
              "      --hover-fill-color: #174EA6;\n",
              "      --disabled-fill-color: #AAA;\n",
              "      --disabled-bg-color: #DDD;\n",
              "  }\n",
              "\n",
              "  [theme=dark] .colab-df-quickchart {\n",
              "      --bg-color: #3B4455;\n",
              "      --fill-color: #D2E3FC;\n",
              "      --hover-bg-color: #434B5C;\n",
              "      --hover-fill-color: #FFFFFF;\n",
              "      --disabled-bg-color: #3B4455;\n",
              "      --disabled-fill-color: #666;\n",
              "  }\n",
              "\n",
              "  .colab-df-quickchart {\n",
              "    background-color: var(--bg-color);\n",
              "    border: none;\n",
              "    border-radius: 50%;\n",
              "    cursor: pointer;\n",
              "    display: none;\n",
              "    fill: var(--fill-color);\n",
              "    height: 32px;\n",
              "    padding: 0;\n",
              "    width: 32px;\n",
              "  }\n",
              "\n",
              "  .colab-df-quickchart:hover {\n",
              "    background-color: var(--hover-bg-color);\n",
              "    box-shadow: 0 1px 2px rgba(60, 64, 67, 0.3), 0 1px 3px 1px rgba(60, 64, 67, 0.15);\n",
              "    fill: var(--button-hover-fill-color);\n",
              "  }\n",
              "\n",
              "  .colab-df-quickchart-complete:disabled,\n",
              "  .colab-df-quickchart-complete:disabled:hover {\n",
              "    background-color: var(--disabled-bg-color);\n",
              "    fill: var(--disabled-fill-color);\n",
              "    box-shadow: none;\n",
              "  }\n",
              "\n",
              "  .colab-df-spinner {\n",
              "    border: 2px solid var(--fill-color);\n",
              "    border-color: transparent;\n",
              "    border-bottom-color: var(--fill-color);\n",
              "    animation:\n",
              "      spin 1s steps(1) infinite;\n",
              "  }\n",
              "\n",
              "  @keyframes spin {\n",
              "    0% {\n",
              "      border-color: transparent;\n",
              "      border-bottom-color: var(--fill-color);\n",
              "      border-left-color: var(--fill-color);\n",
              "    }\n",
              "    20% {\n",
              "      border-color: transparent;\n",
              "      border-left-color: var(--fill-color);\n",
              "      border-top-color: var(--fill-color);\n",
              "    }\n",
              "    30% {\n",
              "      border-color: transparent;\n",
              "      border-left-color: var(--fill-color);\n",
              "      border-top-color: var(--fill-color);\n",
              "      border-right-color: var(--fill-color);\n",
              "    }\n",
              "    40% {\n",
              "      border-color: transparent;\n",
              "      border-right-color: var(--fill-color);\n",
              "      border-top-color: var(--fill-color);\n",
              "    }\n",
              "    60% {\n",
              "      border-color: transparent;\n",
              "      border-right-color: var(--fill-color);\n",
              "    }\n",
              "    80% {\n",
              "      border-color: transparent;\n",
              "      border-right-color: var(--fill-color);\n",
              "      border-bottom-color: var(--fill-color);\n",
              "    }\n",
              "    90% {\n",
              "      border-color: transparent;\n",
              "      border-bottom-color: var(--fill-color);\n",
              "    }\n",
              "  }\n",
              "</style>\n",
              "\n",
              "  <script>\n",
              "    async function quickchart(key) {\n",
              "      const quickchartButtonEl =\n",
              "        document.querySelector('#' + key + ' button');\n",
              "      quickchartButtonEl.disabled = true;  // To prevent multiple clicks.\n",
              "      quickchartButtonEl.classList.add('colab-df-spinner');\n",
              "      try {\n",
              "        const charts = await google.colab.kernel.invokeFunction(\n",
              "            'suggestCharts', [key], {});\n",
              "      } catch (error) {\n",
              "        console.error('Error during call to suggestCharts:', error);\n",
              "      }\n",
              "      quickchartButtonEl.classList.remove('colab-df-spinner');\n",
              "      quickchartButtonEl.classList.add('colab-df-quickchart-complete');\n",
              "    }\n",
              "    (() => {\n",
              "      let quickchartButtonEl =\n",
              "        document.querySelector('#df-4e27109f-da41-4452-af69-9e5b22e741f1 button');\n",
              "      quickchartButtonEl.style.display =\n",
              "        google.colab.kernel.accessAllowed ? 'block' : 'none';\n",
              "    })();\n",
              "  </script>\n",
              "</div>\n",
              "\n",
              "    </div>\n",
              "  </div>\n"
            ],
            "application/vnd.google.colaboratory.intrinsic+json": {
              "type": "dataframe",
              "variable_name": "data"
            }
          },
          "metadata": {},
          "execution_count": 14
        }
      ]
    },
    {
      "cell_type": "code",
      "source": [
        "# Extract month name from the 'Date' column\n",
        "data['monthname'] = pd.to_datetime(data['Date']).dt.month_name()\n",
        "\n",
        "# Display the first few rows to verify\n",
        "print(data.head())\n"
      ],
      "metadata": {
        "colab": {
          "base_uri": "https://localhost:8080/"
        },
        "id": "h9LkZYceFa3Q",
        "outputId": "36926f83-99ef-4c54-ecb5-2f38d39440df"
      },
      "execution_count": 15,
      "outputs": [
        {
          "output_type": "stream",
          "name": "stdout",
          "text": [
            "    Invoice_ID Branch       City Customer_type  Gender  \\\n",
            "0  750-67-8428      A     Yangon        Member  Female   \n",
            "1  226-31-3081      C  Naypyitaw        Normal  Female   \n",
            "2  631-41-3108      A     Yangon        Normal    Male   \n",
            "3  123-19-1176      A     Yangon        Member    Male   \n",
            "4  373-73-7910      A     Yangon        Normal    Male   \n",
            "\n",
            "             Product_line  Unit_price  Quantity   Tax_5%     Total  ...  \\\n",
            "0       Health and beauty       74.69         7  26.1415  548.9715  ...   \n",
            "1  Electronic accessories       15.28         5   3.8200   80.2200  ...   \n",
            "2      Home and lifestyle       46.33         7  16.2155  340.5255  ...   \n",
            "3       Health and beauty       58.22         8  23.2880  489.0480  ...   \n",
            "4       Sports and travel       86.31         7  30.2085  634.3785  ...   \n",
            "\n",
            "     cogs gross_margin_percentage gross_income  Rating  Cost_of_goods_sold  \\\n",
            "0  522.83                4.761905      26.1415     9.1            548.9715   \n",
            "1   76.40                4.761905       3.8200     9.6             80.2200   \n",
            "2  324.31                4.761905      16.2155     7.4            340.5255   \n",
            "3  465.76                4.761905      23.2880     8.4            489.0480   \n",
            "4  604.17                4.761905      30.2085     5.3            634.3785   \n",
            "\n",
            "         Profit  Hour  timeofday   dayname  monthname  \n",
            "0  1.136868e-13    13  Afternoon  Saturday    January  \n",
            "1  1.421085e-14    10    Morning    Friday      March  \n",
            "2  0.000000e+00    13  Afternoon    Sunday      March  \n",
            "3  0.000000e+00    20    Evening    Sunday    January  \n",
            "4  0.000000e+00    10    Morning    Friday   February  \n",
            "\n",
            "[5 rows x 23 columns]\n"
          ]
        }
      ]
    },
    {
      "cell_type": "code",
      "source": [
        "import seaborn as sns\n",
        "\n",
        "# Distribution of Product Lines\n",
        "plt.figure(figsize=(10, 6))\n",
        "sns.countplot(x='Product_line', data=data)\n",
        "plt.title('Distribution of Product Lines')\n",
        "plt.xlabel('Product Line')\n",
        "plt.ylabel('Frequency')\n",
        "plt.xticks(rotation=45)\n",
        "plt.show()\n",
        "\n",
        "# Sales Trends Over Time\n",
        "monthly_sales = data.groupby(data['Date'].dt.to_period('M'))['Total'].sum()\n",
        "plt.figure(figsize=(10, 6))\n",
        "monthly_sales.plot(kind='line', marker='o')\n",
        "plt.title('Monthly Sales Trend')\n",
        "plt.xlabel('Month')\n",
        "plt.ylabel('Total Sales')\n",
        "plt.grid(True)\n",
        "plt.show()\n",
        "\n",
        "# Top-Selling Products\n",
        "top_selling_products = data.groupby('Product_line')['Total'].sum().sort_values(ascending=False)\n",
        "plt.figure(figsize=(10, 6))\n",
        "top_selling_products.plot(kind='bar')\n",
        "plt.title('Top Selling Products')\n",
        "plt.xlabel('Product Line')\n",
        "plt.ylabel('Total Sales')\n",
        "plt.xticks(rotation=45)\n",
        "plt.show()\n",
        "\n",
        "# Branch/City Analysis\n",
        "plt.figure(figsize=(12, 6))\n",
        "sns.barplot(x='Branch', y='Total', data=data, estimator=sum)\n",
        "plt.title('Branch-wise Sales')\n",
        "plt.xlabel('Branch')\n",
        "plt.ylabel('Total Sales')\n",
        "plt.show()\n",
        "\n",
        "plt.figure(figsize=(12, 6))\n",
        "sns.barplot(x='City', y='Total', data=data, estimator=sum, order=data['City'].value_counts().index)\n",
        "plt.title('City-wise Sales')\n",
        "plt.xlabel('City')\n",
        "plt.ylabel('Total Sales')\n",
        "plt.xticks(rotation=45)\n",
        "plt.show()\n",
        "\n",
        "# Customer Type/Gender Analysis\n",
        "plt.figure(figsize=(10, 6))\n",
        "sns.barplot(x='Customer_type', y='Total', hue='Gender', data=data, estimator=sum)\n",
        "plt.title('Customer Type/Gender-wise Sales')\n",
        "plt.xlabel('Customer Type')\n",
        "plt.ylabel('Total Sales')\n",
        "plt.show()\n"
      ],
      "metadata": {
        "colab": {
          "base_uri": "https://localhost:8080/",
          "height": 1000
        },
        "id": "1gFvLwKzFvYR",
        "outputId": "29635028-2ed7-4361-d76c-5e2ea39ed062"
      },
      "execution_count": 17,
      "outputs": [
        {
          "output_type": "display_data",
          "data": {
            "text/plain": [
              "<Figure size 1000x600 with 1 Axes>"
            ],
            "image/png": "[encoded data removed]"
          },
          "metadata": {}
        },
        {
          "output_type": "display_data",
          "data": {
            "text/plain": [
              "<Figure size 1000x600 with 1 Axes>"
            ],
            "image/png": "[encoded data removed]"
          },
          "metadata": {}
        },
        {
          "output_type": "display_data",
          "data": {
            "text/plain": [
              "<Figure size 1000x600 with 1 Axes>"
            ],
            "image/png": "[encoded data removed]"
          },
          "metadata": {}
        },
        {
          "output_type": "display_data",
          "data": {
            "text/plain": [
              "<Figure size 1200x600 with 1 Axes>"
            ],
            "image/png": "[encoded data removed]"
          },
          "metadata": {}
        },
        {
          "output_type": "display_data",
          "data": {
            "text/plain": [
              "<Figure size 1200x600 with 1 Axes>"
            ],
            "image/png": "[encoded data removed]"
          },
          "metadata": {}
        },
        {
          "output_type": "display_data",
          "data": {
            "text/plain": [
              "<Figure size 1000x600 with 1 Axes>"
            ],
            "image/png": "[encoded data removed]"
          },
          "metadata": {}
        }
      ]
    },
    {
      "cell_type": "code",
      "source": [
        "## What is the count of distinct cities in the dataset?\n",
        "\n",
        "distinct_cities_count = data['City'].nunique()\n",
        "print(\"Count of distinct cities in the dataset:\", distinct_cities_count)\n"
      ],
      "metadata": {
        "colab": {
          "base_uri": "https://localhost:8080/"
        },
        "id": "qExglkRXGHhS",
        "outputId": "37e762d8-c79d-4d2b-e08d-e985fe1a5fc9"
      },
      "execution_count": 18,
      "outputs": [
        {
          "output_type": "stream",
          "name": "stdout",
          "text": [
            "Count of distinct cities in the dataset: 3\n"
          ]
        }
      ]
    },
    {
      "cell_type": "code",
      "source": [
        "branch_city_mapping = data.groupby('Branch')['City'].unique()\n",
        "print(\"Corresponding city for each branch:\")\n",
        "for branch, cities in branch_city_mapping.items():\n",
        "    print(f\"Branch {branch}: {', '.join(cities)}\")\n"
      ],
      "metadata": {
        "colab": {
          "base_uri": "https://localhost:8080/"
        },
        "id": "oHTzGEWiGY95",
        "outputId": "4b427857-c687-451a-cbf6-1d24647badcb"
      },
      "execution_count": 19,
      "outputs": [
        {
          "output_type": "stream",
          "name": "stdout",
          "text": [
            "Corresponding city for each branch:\n",
            "Branch A: Yangon\n",
            "Branch B: Mandalay\n",
            "Branch C: Naypyitaw\n"
          ]
        }
      ]
    },
    {
      "cell_type": "code",
      "source": [
        "## Count of distinct Product Line\n",
        "\n",
        "distinct_product_lines_count = data['Product_line'].nunique()\n",
        "print(\"Count of distinct product lines in the dataset:\", distinct_product_lines_count)\n"
      ],
      "metadata": {
        "colab": {
          "base_uri": "https://localhost:8080/"
        },
        "id": "R015l9mFGzCJ",
        "outputId": "36b69e3d-5c2d-4637-f2bc-850736527452"
      },
      "execution_count": 20,
      "outputs": [
        {
          "output_type": "stream",
          "name": "stdout",
          "text": [
            "Count of distinct product lines in the dataset: 6\n"
          ]
        }
      ]
    },
    {
      "cell_type": "code",
      "source": [
        "## Most frequent payment method:\n",
        "\n",
        "most_frequent_payment_method = data['Payment'].mode().values[0]\n",
        "print(\"Most frequent payment method:\", most_frequent_payment_method)\n"
      ],
      "metadata": {
        "colab": {
          "base_uri": "https://localhost:8080/"
        },
        "id": "-RhdN5j6G5Hw",
        "outputId": "7952c30b-e5a2-463c-955d-7d1fd5a62d36"
      },
      "execution_count": 21,
      "outputs": [
        {
          "output_type": "stream",
          "name": "stdout",
          "text": [
            "Most frequent payment method: Ewallet\n"
          ]
        }
      ]
    },
    {
      "cell_type": "code",
      "source": [
        "## Product line with the highest sales:\n",
        "\n",
        "product_line_highest_sales = data.groupby('Product_line')['Total'].sum().idxmax()\n",
        "print(\"Product line with the highest sales:\", product_line_highest_sales)\n"
      ],
      "metadata": {
        "colab": {
          "base_uri": "https://localhost:8080/"
        },
        "id": "E_Ygo-MVHErr",
        "outputId": "b8352984-53ff-4839-95f1-bd2256c52d9e"
      },
      "execution_count": 23,
      "outputs": [
        {
          "output_type": "stream",
          "name": "stdout",
          "text": [
            "Product line with the highest sales: Food and beverages\n"
          ]
        }
      ]
    },
    {
      "cell_type": "code",
      "source": [
        "monthly_revenue = data.groupby(data['Date'].dt.to_period('M'))['Total'].sum()\n",
        "print(\"Revenue generated each month:\")\n",
        "print(monthly_revenue)\n"
      ],
      "metadata": {
        "colab": {
          "base_uri": "https://localhost:8080/"
        },
        "id": "Dlnjn-kUHPTi",
        "outputId": "333b6cc8-3e17-49fe-975f-00159792c3d9"
      },
      "execution_count": 24,
      "outputs": [
        {
          "output_type": "stream",
          "name": "stdout",
          "text": [
            "Revenue generated each month:\n",
            "Date\n",
            "2019-01    116291.868\n",
            "2019-02     97219.374\n",
            "2019-03    109455.507\n",
            "Freq: M, Name: Total, dtype: float64\n"
          ]
        }
      ]
    },
    {
      "cell_type": "code",
      "source": [
        "month_highest_cogs = data.groupby(data['Date'].dt.to_period('M'))['Cost_of_goods_sold'].sum().idxmax().strftime('%B')\n",
        "print(\"Month with the highest cost of goods sold:\", month_highest_cogs)\n"
      ],
      "metadata": {
        "colab": {
          "base_uri": "https://localhost:8080/"
        },
        "id": "Hag95sVnHfro",
        "outputId": "27889b57-c8ab-4543-fac3-dfc9a542b29b"
      },
      "execution_count": 25,
      "outputs": [
        {
          "output_type": "stream",
          "name": "stdout",
          "text": [
            "Month with the highest cost of goods sold: January\n"
          ]
        }
      ]
    },
    {
      "cell_type": "code",
      "source": [
        "product_line_highest_revenue = data.groupby('Product_line')['Total'].sum().idxmax()\n",
        "print(\"Product line with the highest revenue:\", product_line_highest_revenue)\n"
      ],
      "metadata": {
        "colab": {
          "base_uri": "https://localhost:8080/"
        },
        "id": "JFFO9fJ9HkMI",
        "outputId": "85b341a7-742f-45c3-a632-bb5e2d6f3fbd"
      },
      "execution_count": 26,
      "outputs": [
        {
          "output_type": "stream",
          "name": "stdout",
          "text": [
            "Product line with the highest revenue: Food and beverages\n"
          ]
        }
      ]
    },
    {
      "cell_type": "code",
      "source": [
        "city_highest_revenue = data.groupby('City')['Total'].sum().idxmax()\n",
        "print(\"City with the highest revenue:\", city_highest_revenue)\n"
      ],
      "metadata": {
        "colab": {
          "base_uri": "https://localhost:8080/"
        },
        "id": "qSOyrPvWHpoy",
        "outputId": "c35b7c34-cb68-4202-c419-715cac74cdc1"
      },
      "execution_count": 27,
      "outputs": [
        {
          "output_type": "stream",
          "name": "stdout",
          "text": [
            "City with the highest revenue: Naypyitaw\n"
          ]
        }
      ]
    },
    {
      "cell_type": "code",
      "source": [
        "product_line_highest_vat = data.groupby('Product_line')['Tax_5%'].sum().idxmax()\n",
        "print(\"Product line with the highest Value Added Tax (VAT):\", product_line_highest_vat)\n"
      ],
      "metadata": {
        "colab": {
          "base_uri": "https://localhost:8080/"
        },
        "id": "ScmF9SDNHtQJ",
        "outputId": "0cb1b17b-c2fb-49e6-bb33-6d6af6aa4279"
      },
      "execution_count": 28,
      "outputs": [
        {
          "output_type": "stream",
          "name": "stdout",
          "text": [
            "Product line with the highest Value Added Tax (VAT): Food and beverages\n"
          ]
        }
      ]
    },
    {
      "cell_type": "code",
      "source": [
        "average_sales = data['Total'].mean()\n",
        "data['Sales_Category'] = data['Total'].apply(lambda x: 'Good' if x > average_sales else 'Bad')\n"
      ],
      "metadata": {
        "id": "p1hUTEA3HxOX"
      },
      "execution_count": 30,
      "outputs": []
    },
    {
      "cell_type": "code",
      "source": [
        "data.head()"
      ],
      "metadata": {
        "colab": {
          "base_uri": "https://localhost:8080/",
          "height": 342
        },
        "id": "cStGsO4yH8iP",
        "outputId": "a3bab148-ef59-4900-c74d-adc2f4035be6"
      },
      "execution_count": 31,
      "outputs": [
        {
          "output_type": "execute_result",
          "data": {
            "text/plain": [
              "    Invoice_ID Branch       City Customer_type  Gender  \\\n",
              "0  750-67-8428      A     Yangon        Member  Female   \n",
              "1  226-31-3081      C  Naypyitaw        Normal  Female   \n",
              "2  631-41-3108      A     Yangon        Normal    Male   \n",
              "3  123-19-1176      A     Yangon        Member    Male   \n",
              "4  373-73-7910      A     Yangon        Normal    Male   \n",
              "\n",
              "             Product_line  Unit_price  Quantity   Tax_5%     Total  ...  \\\n",
              "0       Health and beauty       74.69         7  26.1415  548.9715  ...   \n",
              "1  Electronic accessories       15.28         5   3.8200   80.2200  ...   \n",
              "2      Home and lifestyle       46.33         7  16.2155  340.5255  ...   \n",
              "3       Health and beauty       58.22         8  23.2880  489.0480  ...   \n",
              "4       Sports and travel       86.31         7  30.2085  634.3785  ...   \n",
              "\n",
              "  gross_margin_percentage gross_income Rating  Cost_of_goods_sold  \\\n",
              "0                4.761905      26.1415    9.1            548.9715   \n",
              "1                4.761905       3.8200    9.6             80.2200   \n",
              "2                4.761905      16.2155    7.4            340.5255   \n",
              "3                4.761905      23.2880    8.4            489.0480   \n",
              "4                4.761905      30.2085    5.3            634.3785   \n",
              "\n",
              "         Profit  Hour  timeofday   dayname  monthname  Sales_Category  \n",
              "0  1.136868e-13    13  Afternoon  Saturday    January            Good  \n",
              "1  1.421085e-14    10    Morning    Friday      March             Bad  \n",
              "2  0.000000e+00    13  Afternoon    Sunday      March            Good  \n",
              "3  0.000000e+00    20    Evening    Sunday    January            Good  \n",
              "4  0.000000e+00    10    Morning    Friday   February            Good  \n",
              "\n",
              "[5 rows x 24 columns]"
            ],
            "text/html": [
              "\n",
              "  <div id=\"df-ff8a2492-09b7-4d4a-8ed5-cfbebf34c485\" class=\"colab-df-container\">\n",
              "    <div>\n",
              "<style scoped>\n",
              "    .dataframe tbody tr th:only-of-type {\n",
              "        vertical-align: middle;\n",
              "    }\n",
              "\n",
              "    .dataframe tbody tr th {\n",
              "        vertical-align: top;\n",
              "    }\n",
              "\n",
              "    .dataframe thead th {\n",
              "        text-align: right;\n",
              "    }\n",
              "</style>\n",
              "<table border=\"1\" class=\"dataframe\">\n",
              "  <thead>\n",
              "    <tr style=\"text-align: right;\">\n",
              "      <th></th>\n",
              "      <th>Invoice_ID</th>\n",
              "      <th>Branch</th>\n",
              "      <th>City</th>\n",
              "      <th>Customer_type</th>\n",
              "      <th>Gender</th>\n",
              "      <th>Product_line</th>\n",
              "      <th>Unit_price</th>\n",
              "      <th>Quantity</th>\n",
              "      <th>Tax_5%</th>\n",
              "      <th>Total</th>\n",
              "      <th>...</th>\n",
              "      <th>gross_margin_percentage</th>\n",
              "      <th>gross_income</th>\n",
              "      <th>Rating</th>\n",
              "      <th>Cost_of_goods_sold</th>\n",
              "      <th>Profit</th>\n",
              "      <th>Hour</th>\n",
              "      <th>timeofday</th>\n",
              "      <th>dayname</th>\n",
              "      <th>monthname</th>\n",
              "      <th>Sales_Category</th>\n",
              "    </tr>\n",
              "  </thead>\n",
              "  <tbody>\n",
              "    <tr>\n",
              "      <th>0</th>\n",
              "      <td>750-67-8428</td>\n",
              "      <td>A</td>\n",
              "      <td>Yangon</td>\n",
              "      <td>Member</td>\n",
              "      <td>Female</td>\n",
              "      <td>Health and beauty</td>\n",
              "      <td>74.69</td>\n",
              "      <td>7</td>\n",
              "      <td>26.1415</td>\n",
              "      <td>548.9715</td>\n",
              "      <td>...</td>\n",
              "      <td>4.761905</td>\n",
              "      <td>26.1415</td>\n",
              "      <td>9.1</td>\n",
              "      <td>548.9715</td>\n",
              "      <td>1.136868e-13</td>\n",
              "      <td>13</td>\n",
              "      <td>Afternoon</td>\n",
              "      <td>Saturday</td>\n",
              "      <td>January</td>\n",
              "      <td>Good</td>\n",
              "    </tr>\n",
              "    <tr>\n",
              "      <th>1</th>\n",
              "      <td>226-31-3081</td>\n",
              "      <td>C</td>\n",
              "      <td>Naypyitaw</td>\n",
              "      <td>Normal</td>\n",
              "      <td>Female</td>\n",
              "      <td>Electronic accessories</td>\n",
              "      <td>15.28</td>\n",
              "      <td>5</td>\n",
              "      <td>3.8200</td>\n",
              "      <td>80.2200</td>\n",
              "      <td>...</td>\n",
              "      <td>4.761905</td>\n",
              "      <td>3.8200</td>\n",
              "      <td>9.6</td>\n",
              "      <td>80.2200</td>\n",
              "      <td>1.421085e-14</td>\n",
              "      <td>10</td>\n",
              "      <td>Morning</td>\n",
              "      <td>Friday</td>\n",
              "      <td>March</td>\n",
              "      <td>Bad</td>\n",
              "    </tr>\n",
              "    <tr>\n",
              "      <th>2</th>\n",
              "      <td>631-41-3108</td>\n",
              "      <td>A</td>\n",
              "      <td>Yangon</td>\n",
              "      <td>Normal</td>\n",
              "      <td>Male</td>\n",
              "      <td>Home and lifestyle</td>\n",
              "      <td>46.33</td>\n",
              "      <td>7</td>\n",
              "      <td>16.2155</td>\n",
              "      <td>340.5255</td>\n",
              "      <td>...</td>\n",
              "      <td>4.761905</td>\n",
              "      <td>16.2155</td>\n",
              "      <td>7.4</td>\n",
              "      <td>340.5255</td>\n",
              "      <td>0.000000e+00</td>\n",
              "      <td>13</td>\n",
              "      <td>Afternoon</td>\n",
              "      <td>Sunday</td>\n",
              "      <td>March</td>\n",
              "      <td>Good</td>\n",
              "    </tr>\n",
              "    <tr>\n",
              "      <th>3</th>\n",
              "      <td>123-19-1176</td>\n",
              "      <td>A</td>\n",
              "      <td>Yangon</td>\n",
              "      <td>Member</td>\n",
              "      <td>Male</td>\n",
              "      <td>Health and beauty</td>\n",
              "      <td>58.22</td>\n",
              "      <td>8</td>\n",
              "      <td>23.2880</td>\n",
              "      <td>489.0480</td>\n",
              "      <td>...</td>\n",
              "      <td>4.761905</td>\n",
              "      <td>23.2880</td>\n",
              "      <td>8.4</td>\n",
              "      <td>489.0480</td>\n",
              "      <td>0.000000e+00</td>\n",
              "      <td>20</td>\n",
              "      <td>Evening</td>\n",
              "      <td>Sunday</td>\n",
              "      <td>January</td>\n",
              "      <td>Good</td>\n",
              "    </tr>\n",
              "    <tr>\n",
              "      <th>4</th>\n",
              "      <td>373-73-7910</td>\n",
              "      <td>A</td>\n",
              "      <td>Yangon</td>\n",
              "      <td>Normal</td>\n",
              "      <td>Male</td>\n",
              "      <td>Sports and travel</td>\n",
              "      <td>86.31</td>\n",
              "      <td>7</td>\n",
              "      <td>30.2085</td>\n",
              "      <td>634.3785</td>\n",
              "      <td>...</td>\n",
              "      <td>4.761905</td>\n",
              "      <td>30.2085</td>\n",
              "      <td>5.3</td>\n",
              "      <td>634.3785</td>\n",
              "      <td>0.000000e+00</td>\n",
              "      <td>10</td>\n",
              "      <td>Morning</td>\n",
              "      <td>Friday</td>\n",
              "      <td>February</td>\n",
              "      <td>Good</td>\n",
              "    </tr>\n",
              "  </tbody>\n",
              "</table>\n",
              "<p>5 rows × 24 columns</p>\n",
              "</div>\n",
              "    <div class=\"colab-df-buttons\">\n",
              "\n",
              "  <div class=\"colab-df-container\">\n",
              "    <button class=\"colab-df-convert\" onclick=\"convertToInteractive('df-ff8a2492-09b7-4d4a-8ed5-cfbebf34c485')\"\n",
              "            title=\"Convert this dataframe to an interactive table.\"\n",
              "            style=\"display:none;\">\n",
              "\n",
              "  <svg xmlns=\"http://www.w3.org/2000/svg\" height=\"24px\" viewBox=\"0 -960 960 960\">\n",
              "    <path d=\"M120-120v-720h720v720H120Zm60-500h600v-160H180v160Zm220 220h160v-160H400v160Zm0 220h160v-160H400v160ZM180-400h160v-160H180v160Zm440 0h160v-160H620v160ZM180-180h160v-160H180v160Zm440 0h160v-160H620v160Z\"/>\n",
              "  </svg>\n",
              "    </button>\n",
              "\n",
              "  <style>\n",
              "    .colab-df-container {\n",
              "      display:flex;\n",
              "      gap: 12px;\n",
              "    }\n",
              "\n",
              "    .colab-df-convert {\n",
              "      background-color: #E8F0FE;\n",
              "      border: none;\n",
              "      border-radius: 50%;\n",
              "      cursor: pointer;\n",
              "      display: none;\n",
              "      fill: #1967D2;\n",
              "      height: 32px;\n",
              "      padding: 0 0 0 0;\n",
              "      width: 32px;\n",
              "    }\n",
              "\n",
              "    .colab-df-convert:hover {\n",
              "      background-color: #E2EBFA;\n",
              "      box-shadow: 0px 1px 2px rgba(60, 64, 67, 0.3), 0px 1px 3px 1px rgba(60, 64, 67, 0.15);\n",
              "      fill: #174EA6;\n",
              "    }\n",
              "\n",
              "    .colab-df-buttons div {\n",
              "      margin-bottom: 4px;\n",
              "    }\n",
              "\n",
              "    [theme=dark] .colab-df-convert {\n",
              "      background-color: #3B4455;\n",
              "      fill: #D2E3FC;\n",
              "    }\n",
              "\n",
              "    [theme=dark] .colab-df-convert:hover {\n",
              "      background-color: #434B5C;\n",
              "      box-shadow: 0px 1px 3px 1px rgba(0, 0, 0, 0.15);\n",
              "      filter: drop-shadow(0px 1px 2px rgba(0, 0, 0, 0.3));\n",
              "      fill: #FFFFFF;\n",
              "    }\n",
              "  </style>\n",
              "\n",
              "    <script>\n",
              "      const buttonEl =\n",
              "        document.querySelector('#df-ff8a2492-09b7-4d4a-8ed5-cfbebf34c485 button.colab-df-convert');\n",
              "      buttonEl.style.display =\n",
              "        google.colab.kernel.accessAllowed ? 'block' : 'none';\n",
              "\n",
              "      async function convertToInteractive(key) {\n",
              "        const element = document.querySelector('#df-ff8a2492-09b7-4d4a-8ed5-cfbebf34c485');\n",
              "        const dataTable =\n",
              "          await google.colab.kernel.invokeFunction('convertToInteractive',\n",
              "                                                    [key], {});\n",
              "        if (!dataTable) return;\n",
              "\n",
              "        const docLinkHtml = 'Like what you see? Visit the ' +\n",
              "          '<a target=\"_blank\" href=https://colab.research.google.com/notebooks/data_table.ipynb>data table notebook</a>'\n",
              "          + ' to learn more about interactive tables.';\n",
              "        element.innerHTML = '';\n",
              "        dataTable['output_type'] = 'display_data';\n",
              "        await google.colab.output.renderOutput(dataTable, element);\n",
              "        const docLink = document.createElement('div');\n",
              "        docLink.innerHTML = docLinkHtml;\n",
              "        element.appendChild(docLink);\n",
              "      }\n",
              "    </script>\n",
              "  </div>\n",
              "\n",
              "\n",
              "<div id=\"df-0d62344f-b5c8-4630-872b-dfec056af04c\">\n",
              "  <button class=\"colab-df-quickchart\" onclick=\"quickchart('df-0d62344f-b5c8-4630-872b-dfec056af04c')\"\n",
              "            title=\"Suggest charts\"\n",
              "            style=\"display:none;\">\n",
              "\n",
              "<svg xmlns=\"http://www.w3.org/2000/svg\" height=\"24px\"viewBox=\"0 0 24 24\"\n",
              "     width=\"24px\">\n",
              "    <g>\n",
              "        <path d=\"M19 3H5c-1.1 0-2 .9-2 2v14c0 1.1.9 2 2 2h14c1.1 0 2-.9 2-2V5c0-1.1-.9-2-2-2zM9 17H7v-7h2v7zm4 0h-2V7h2v10zm4 0h-2v-4h2v4z\"/>\n",
              "    </g>\n",
              "</svg>\n",
              "  </button>\n",
              "\n",
              "<style>\n",
              "  .colab-df-quickchart {\n",
              "      --bg-color: #E8F0FE;\n",
              "      --fill-color: #1967D2;\n",
              "      --hover-bg-color: #E2EBFA;\n",
              "      --hover-fill-color: #174EA6;\n",
              "      --disabled-fill-color: #AAA;\n",
              "      --disabled-bg-color: #DDD;\n",
              "  }\n",
              "\n",
              "  [theme=dark] .colab-df-quickchart {\n",
              "      --bg-color: #3B4455;\n",
              "      --fill-color: #D2E3FC;\n",
              "      --hover-bg-color: #434B5C;\n",
              "      --hover-fill-color: #FFFFFF;\n",
              "      --disabled-bg-color: #3B4455;\n",
              "      --disabled-fill-color: #666;\n",
              "  }\n",
              "\n",
              "  .colab-df-quickchart {\n",
              "    background-color: var(--bg-color);\n",
              "    border: none;\n",
              "    border-radius: 50%;\n",
              "    cursor: pointer;\n",
              "    display: none;\n",
              "    fill: var(--fill-color);\n",
              "    height: 32px;\n",
              "    padding: 0;\n",
              "    width: 32px;\n",
              "  }\n",
              "\n",
              "  .colab-df-quickchart:hover {\n",
              "    background-color: var(--hover-bg-color);\n",
              "    box-shadow: 0 1px 2px rgba(60, 64, 67, 0.3), 0 1px 3px 1px rgba(60, 64, 67, 0.15);\n",
              "    fill: var(--button-hover-fill-color);\n",
              "  }\n",
              "\n",
              "  .colab-df-quickchart-complete:disabled,\n",
              "  .colab-df-quickchart-complete:disabled:hover {\n",
              "    background-color: var(--disabled-bg-color);\n",
              "    fill: var(--disabled-fill-color);\n",
              "    box-shadow: none;\n",
              "  }\n",
              "\n",
              "  .colab-df-spinner {\n",
              "    border: 2px solid var(--fill-color);\n",
              "    border-color: transparent;\n",
              "    border-bottom-color: var(--fill-color);\n",
              "    animation:\n",
              "      spin 1s steps(1) infinite;\n",
              "  }\n",
              "\n",
              "  @keyframes spin {\n",
              "    0% {\n",
              "      border-color: transparent;\n",
              "      border-bottom-color: var(--fill-color);\n",
              "      border-left-color: var(--fill-color);\n",
              "    }\n",
              "    20% {\n",
              "      border-color: transparent;\n",
              "      border-left-color: var(--fill-color);\n",
              "      border-top-color: var(--fill-color);\n",
              "    }\n",
              "    30% {\n",
              "      border-color: transparent;\n",
              "      border-left-color: var(--fill-color);\n",
              "      border-top-color: var(--fill-color);\n",
              "      border-right-color: var(--fill-color);\n",
              "    }\n",
              "    40% {\n",
              "      border-color: transparent;\n",
              "      border-right-color: var(--fill-color);\n",
              "      border-top-color: var(--fill-color);\n",
              "    }\n",
              "    60% {\n",
              "      border-color: transparent;\n",
              "      border-right-color: var(--fill-color);\n",
              "    }\n",
              "    80% {\n",
              "      border-color: transparent;\n",
              "      border-right-color: var(--fill-color);\n",
              "      border-bottom-color: var(--fill-color);\n",
              "    }\n",
              "    90% {\n",
              "      border-color: transparent;\n",
              "      border-bottom-color: var(--fill-color);\n",
              "    }\n",
              "  }\n",
              "</style>\n",
              "\n",
              "  <script>\n",
              "    async function quickchart(key) {\n",
              "      const quickchartButtonEl =\n",
              "        document.querySelector('#' + key + ' button');\n",
              "      quickchartButtonEl.disabled = true;  // To prevent multiple clicks.\n",
              "      quickchartButtonEl.classList.add('colab-df-spinner');\n",
              "      try {\n",
              "        const charts = await google.colab.kernel.invokeFunction(\n",
              "            'suggestCharts', [key], {});\n",
              "      } catch (error) {\n",
              "        console.error('Error during call to suggestCharts:', error);\n",
              "      }\n",
              "      quickchartButtonEl.classList.remove('colab-df-spinner');\n",
              "      quickchartButtonEl.classList.add('colab-df-quickchart-complete');\n",
              "    }\n",
              "    (() => {\n",
              "      let quickchartButtonEl =\n",
              "        document.querySelector('#df-0d62344f-b5c8-4630-872b-dfec056af04c button');\n",
              "      quickchartButtonEl.style.display =\n",
              "        google.colab.kernel.accessAllowed ? 'block' : 'none';\n",
              "    })();\n",
              "  </script>\n",
              "</div>\n",
              "\n",
              "    </div>\n",
              "  </div>\n"
            ],
            "application/vnd.google.colaboratory.intrinsic+json": {
              "type": "dataframe",
              "variable_name": "data"
            }
          },
          "metadata": {},
          "execution_count": 31
        }
      ]
    },
    {
      "cell_type": "code",
      "source": [
        "average_products_sold = data['Quantity'].mean()\n",
        "branches_exceeding_average = data.groupby('Branch')['Quantity'].sum() > average_products_sold\n",
        "print(\"Branches exceeding average number of products sold:\")\n",
        "print(branches_exceeding_average)\n"
      ],
      "metadata": {
        "colab": {
          "base_uri": "https://localhost:8080/"
        },
        "id": "k6EJfF_0IEs_",
        "outputId": "f553c4d3-3281-4459-d2c8-c024d1668a24"
      },
      "execution_count": 32,
      "outputs": [
        {
          "output_type": "stream",
          "name": "stdout",
          "text": [
            "Branches exceeding average number of products sold:\n",
            "Branch\n",
            "A    True\n",
            "B    True\n",
            "C    True\n",
            "Name: Quantity, dtype: bool\n"
          ]
        }
      ]
    },
    {
      "cell_type": "code",
      "source": [
        "most_frequent_product_line_gender = data.groupby('Gender')['Product_line'].agg(lambda x: x.value_counts().idxmax())\n",
        "print(\"Most frequently associated product line for each gender:\")\n",
        "print(most_frequent_product_line_gender)\n"
      ],
      "metadata": {
        "colab": {
          "base_uri": "https://localhost:8080/"
        },
        "id": "3Kq8lZ4sIQFK",
        "outputId": "a4a87ab0-9ec1-4a3d-cce9-00ea2a063676"
      },
      "execution_count": 33,
      "outputs": [
        {
          "output_type": "stream",
          "name": "stdout",
          "text": [
            "Most frequently associated product line for each gender:\n",
            "Gender\n",
            "Female    Fashion accessories\n",
            "Male        Health and beauty\n",
            "Name: Product_line, dtype: object\n"
          ]
        }
      ]
    },
    {
      "cell_type": "code",
      "source": [
        "average_rating_product_line = data.groupby('Product_line')['Rating'].mean()\n",
        "print(\"Average rating for each product line:\")\n",
        "print(average_rating_product_line)\n"
      ],
      "metadata": {
        "colab": {
          "base_uri": "https://localhost:8080/"
        },
        "id": "zkNlP6r4IZgR",
        "outputId": "055e72c1-fc2d-4c73-e3d5-9bf7a7337db0"
      },
      "execution_count": 34,
      "outputs": [
        {
          "output_type": "stream",
          "name": "stdout",
          "text": [
            "Average rating for each product line:\n",
            "Product_line\n",
            "Electronic accessories    6.924706\n",
            "Fashion accessories       7.029213\n",
            "Food and beverages        7.113218\n",
            "Health and beauty         7.003289\n",
            "Home and lifestyle        6.837500\n",
            "Sports and travel         6.916265\n",
            "Name: Rating, dtype: float64\n"
          ]
        }
      ]
    },
    {
      "cell_type": "code",
      "source": [
        "sales_occurrences = data.groupby(['timeofday', 'dayname'])['Invoice_ID'].count()\n",
        "print(\"Sales occurrences for each time of day on every weekday:\")\n",
        "print(sales_occurrences)\n"
      ],
      "metadata": {
        "colab": {
          "base_uri": "https://localhost:8080/"
        },
        "id": "uaSZumqPIh0I",
        "outputId": "7ed1a7c7-1e5a-45e8-eade-1310fba24ef3"
      },
      "execution_count": 35,
      "outputs": [
        {
          "output_type": "stream",
          "name": "stdout",
          "text": [
            "Sales occurrences for each time of day on every weekday:\n",
            "timeofday  dayname  \n",
            "Afternoon  Friday       74\n",
            "           Monday       75\n",
            "           Saturday     81\n",
            "           Sunday       70\n",
            "           Thursday     76\n",
            "           Tuesday      71\n",
            "           Wednesday    81\n",
            "Evening    Friday       36\n",
            "           Monday       29\n",
            "           Saturday     55\n",
            "           Sunday       41\n",
            "           Thursday     29\n",
            "           Tuesday      51\n",
            "           Wednesday    40\n",
            "Morning    Friday       29\n",
            "           Monday       21\n",
            "           Saturday     28\n",
            "           Sunday       22\n",
            "           Thursday     33\n",
            "           Tuesday      36\n",
            "           Wednesday    22\n",
            "Name: Invoice_ID, dtype: int64\n"
          ]
        }
      ]
    },
    {
      "cell_type": "code",
      "source": [
        "customer_type_highest_revenue = data.groupby('Customer_type')['Total'].sum().idxmax()\n",
        "print(\"Customer type contributing the highest revenue:\", customer_type_highest_revenue)\n"
      ],
      "metadata": {
        "colab": {
          "base_uri": "https://localhost:8080/"
        },
        "id": "UheiqnxDIvZ5",
        "outputId": "0fad8c34-da8d-436e-fe4f-fe083b0c6972"
      },
      "execution_count": 36,
      "outputs": [
        {
          "output_type": "stream",
          "name": "stdout",
          "text": [
            "Customer type contributing the highest revenue: Member\n"
          ]
        }
      ]
    },
    {
      "cell_type": "code",
      "source": [
        "city_highest_vat_percentage = (data.groupby('City')['Tax_5%'].sum() / data.groupby('City')['Total'].sum()).idxmax()\n",
        "print(\"City with the highest VAT percentage:\", city_highest_vat_percentage)\n"
      ],
      "metadata": {
        "colab": {
          "base_uri": "https://localhost:8080/"
        },
        "id": "TAfl7_eUI1WJ",
        "outputId": "b819861c-a31a-4b8a-d5dd-52932e2b68d5"
      },
      "execution_count": 37,
      "outputs": [
        {
          "output_type": "stream",
          "name": "stdout",
          "text": [
            "City with the highest VAT percentage: Mandalay\n"
          ]
        }
      ]
    },
    {
      "cell_type": "code",
      "source": [
        "customer_type_highest_vat_payments = data.groupby('Customer_type')['Tax_5%'].sum().idxmax()\n",
        "print(\"Customer type with the highest VAT payments:\", customer_type_highest_vat_payments)\n"
      ],
      "metadata": {
        "colab": {
          "base_uri": "https://localhost:8080/"
        },
        "id": "ln2109HrI5Zp",
        "outputId": "fb6aed41-667b-474a-c0f1-885258835299"
      },
      "execution_count": 38,
      "outputs": [
        {
          "output_type": "stream",
          "name": "stdout",
          "text": [
            "Customer type with the highest VAT payments: Member\n"
          ]
        }
      ]
    },
    {
      "cell_type": "code",
      "source": [
        "distinct_customer_types_count = data['Customer_type'].nunique()\n",
        "print(\"Count of distinct customer types in the dataset:\", distinct_customer_types_count)\n"
      ],
      "metadata": {
        "colab": {
          "base_uri": "https://localhost:8080/"
        },
        "id": "XozvL1zlI9A5",
        "outputId": "2b885ba9-c980-426b-cc9d-f5fddfbb518c"
      },
      "execution_count": 39,
      "outputs": [
        {
          "output_type": "stream",
          "name": "stdout",
          "text": [
            "Count of distinct customer types in the dataset: 2\n"
          ]
        }
      ]
    },
    {
      "cell_type": "code",
      "source": [
        "distinct_payment_methods = data['Payment'].value_counts()\n",
        "distinct_payment_methods_count = len(distinct_payment_methods)\n",
        "print(\"Count of distinct payment methods in the dataset:\", distinct_payment_methods_count)\n",
        "print(\"Distinct payment methods with their names:\")\n",
        "print(distinct_payment_methods)\n",
        "\n"
      ],
      "metadata": {
        "colab": {
          "base_uri": "https://localhost:8080/"
        },
        "id": "HJAF_iJAJC_5",
        "outputId": "3ee90fda-f6b4-465d-a136-099388af178f"
      },
      "execution_count": 41,
      "outputs": [
        {
          "output_type": "stream",
          "name": "stdout",
          "text": [
            "Count of distinct payment methods in the dataset: 3\n",
            "Distinct payment methods with their names:\n",
            "Ewallet        345\n",
            "Cash           344\n",
            "Credit card    311\n",
            "Name: Payment, dtype: int64\n"
          ]
        }
      ]
    },
    {
      "cell_type": "code",
      "source": [
        "most_frequent_customer_type = data['Customer_type'].mode().values[0]\n",
        "print(\"Most frequent customer type:\", most_frequent_customer_type)\n"
      ],
      "metadata": {
        "colab": {
          "base_uri": "https://localhost:8080/"
        },
        "id": "CbmE4OTuJWrY",
        "outputId": "c8b52075-cb16-483b-bc31-205e9c449649"
      },
      "execution_count": 42,
      "outputs": [
        {
          "output_type": "stream",
          "name": "stdout",
          "text": [
            "Most frequent customer type: Member\n"
          ]
        }
      ]
    },
    {
      "cell_type": "code",
      "source": [
        "customer_type_highest_purchase_frequency = data['Customer_type'].value_counts().idxmax()\n",
        "print(\"Customer type with the highest purchase frequency:\", customer_type_highest_purchase_frequency)\n"
      ],
      "metadata": {
        "colab": {
          "base_uri": "https://localhost:8080/"
        },
        "id": "bT7VXVSqJaRA",
        "outputId": "42b216be-37fd-4beb-a1e5-3523be39f11e"
      },
      "execution_count": 43,
      "outputs": [
        {
          "output_type": "stream",
          "name": "stdout",
          "text": [
            "Customer type with the highest purchase frequency: Member\n"
          ]
        }
      ]
    },
    {
      "cell_type": "code",
      "source": [
        "predominant_gender = data['Gender'].mode().values[0]\n",
        "print(\"Predominant gender among customers:\", predominant_gender)\n"
      ],
      "metadata": {
        "colab": {
          "base_uri": "https://localhost:8080/"
        },
        "id": "WPzCSWufJfMS",
        "outputId": "d109ef97-f27f-4e44-bf01-9517ab2eff17"
      },
      "execution_count": 44,
      "outputs": [
        {
          "output_type": "stream",
          "name": "stdout",
          "text": [
            "Predominant gender among customers: Female\n"
          ]
        }
      ]
    },
    {
      "cell_type": "code",
      "source": [
        "import matplotlib.pyplot as plt\n",
        "\n",
        "# Grouped bar plot\n",
        "plt.figure(figsize=(10, 6))\n",
        "ax = gender_distribution_branch.unstack().plot(kind='bar', stacked=True)\n",
        "plt.title('Distribution of Genders within Each Branch')\n",
        "plt.xlabel('Branch')\n",
        "plt.ylabel('Percentage')\n",
        "plt.legend(title='Gender', bbox_to_anchor=(1, 1))\n",
        "plt.xticks(rotation=0)\n",
        "plt.tight_layout()\n",
        "\n",
        "# Annotate each bar with percentages\n",
        "for p in ax.patches:\n",
        "    width = p.get_width()\n",
        "    height = p.get_height()\n",
        "    x, y = p.get_xy()\n",
        "    ax.annotate(f'{height:.1%}', (x + width / 2, y + height / 2), ha='center', va='center')\n",
        "\n",
        "plt.show()\n"
      ],
      "metadata": {
        "colab": {
          "base_uri": "https://localhost:8080/",
          "height": 505
        },
        "id": "_U3I7tUtJl3Y",
        "outputId": "934b610f-3a87-44d6-dbfe-13dfa45d8c4e"
      },
      "execution_count": 47,
      "outputs": [
        {
          "output_type": "display_data",
          "data": {
            "text/plain": [
              "<Figure size 1000x600 with 0 Axes>"
            ]
          },
          "metadata": {}
        },
        {
          "output_type": "display_data",
          "data": {
            "text/plain": [
              "<Figure size 640x480 with 1 Axes>"
            ],
            "image/png": "[encoded data removed]"
          },
          "metadata": {}
        }
      ]
    },
    {
      "cell_type": "code",
      "source": [
        "time_of_day_most_ratings = data.groupby('timeofday')['Rating'].count().idxmax()\n",
        "print(\"Time of day with the most ratings:\", time_of_day_most_ratings)\n"
      ],
      "metadata": {
        "colab": {
          "base_uri": "https://localhost:8080/"
        },
        "id": "DUSAsMNgKHvI",
        "outputId": "b185f504-c360-4ff5-b9a2-fdd2b5079612"
      },
      "execution_count": 48,
      "outputs": [
        {
          "output_type": "stream",
          "name": "stdout",
          "text": [
            "Time of day with the most ratings: Afternoon\n"
          ]
        }
      ]
    },
    {
      "cell_type": "code",
      "source": [
        "time_of_day_highest_ratings_branch = data.groupby(['Branch', 'timeofday'])['Rating'].mean().idxmax()\n",
        "print(\"Time of day with the highest customer ratings for each branch:\", time_of_day_highest_ratings_branch)\n"
      ],
      "metadata": {
        "colab": {
          "base_uri": "https://localhost:8080/"
        },
        "id": "gj60zMixKSQA",
        "outputId": "f9a82874-d2f8-4ef1-f5ff-6f954e774c90"
      },
      "execution_count": 49,
      "outputs": [
        {
          "output_type": "stream",
          "name": "stdout",
          "text": [
            "Time of day with the highest customer ratings for each branch: ('C', 'Afternoon')\n"
          ]
        }
      ]
    },
    {
      "cell_type": "code",
      "source": [
        "day_highest_average_ratings = data.groupby('dayname')['Rating'].mean().idxmax()\n",
        "print(\"Day of the week with the highest average ratings:\", day_highest_average_ratings)\n"
      ],
      "metadata": {
        "colab": {
          "base_uri": "https://localhost:8080/"
        },
        "id": "AbuFvJxLKX_Q",
        "outputId": "1841e675-196f-4c63-d071-f3c88bf97720"
      },
      "execution_count": 50,
      "outputs": [
        {
          "output_type": "stream",
          "name": "stdout",
          "text": [
            "Day of the week with the highest average ratings: Monday\n"
          ]
        }
      ]
    },
    {
      "cell_type": "code",
      "source": [
        "day_highest_average_ratings_branch = data.groupby(['Branch', 'dayname'])['Rating'].mean().idxmax()\n",
        "print(\"Day of the week with the highest average ratings for each branch:\", day_highest_average_ratings_branch)\n"
      ],
      "metadata": {
        "colab": {
          "base_uri": "https://localhost:8080/"
        },
        "id": "p4NtCZ9mKb9J",
        "outputId": "9e2d2c33-4110-4e56-b8bc-ea2f7c8a4750"
      },
      "execution_count": 51,
      "outputs": [
        {
          "output_type": "stream",
          "name": "stdout",
          "text": [
            "Day of the week with the highest average ratings for each branch: ('B', 'Monday')\n"
          ]
        }
      ]
    }
  ]
}