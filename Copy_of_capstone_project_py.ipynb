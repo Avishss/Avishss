{
  "nbformat": 4,
  "nbformat_minor": 0,
  "metadata": {
    "colab": {
      "provenance": [],
      "authorship_tag": "ABX9TyP2ZztcLQQlsqWeFZ/Bq6Xw",
      "include_colab_link": true
    },
    "kernelspec": {
      "name": "python3",
      "display_name": "Python 3"
    },
    "language_info": {
      "name": "python"
    }
  },
  "cells": [
    {
      "cell_type": "markdown",
      "metadata": {
        "id": "view-in-github",
        "colab_type": "text"
      },
      "source": [
        "<a href=\"https://colab.research.google.com/github/Avishss/Avishss/blob/main/Copy_of_capstone_project_py.ipynb\" target=\"_parent\"><img src=\"https://colab.research.google.com/assets/colab-badge.svg\" alt=\"Open In Colab\"/></a>"
      ]
    },
    {
      "cell_type": "code",
      "source": [
        "import smtplib\n",
        "import random\n",
        "\n",
        "# Function to generate a random 6-digit OTP\n",
        "def generate_otp():\n",
        "    return ''.join([str(random.randint(0, 9)) for _ in range(6)])\n",
        "\n",
        "# Function to send OTP to user's email\n",
        "def send_otp_email(email, otp):\n",
        "    # Replace 'your_email_address' and 'your_email_password' with your own email credentials\n",
        "    sender_email = 'Enter_email'\n",
        "    sender_password = 'Enter_pass'\n",
        "\n",
        "    subject = 'OTP Verification'\n",
        "    message = f'Your OTP for verification is: {otp}'\n",
        "\n",
        "    try:\n",
        "        server = smtplib.SMTP('smtp.gmail.com', 587)\n",
        "        server.starttls()\n",
        "        server.login(sender_email, sender_password)\n",
        "        server.sendmail(sender_email, email, f'Subject: {subject}\\n\\n{message}')\n",
        "        server.quit()\n",
        "        print('OTP sent successfully!')\n",
        "    except Exception as e:\n",
        "        print('Failed to send OTP:', e)\n",
        "\n",
        "# Function to validate OTP entered by the user\n",
        "def validate_otp(entered_otp, generated_otp):\n",
        "    return entered_otp == generated_otp\n",
        "\n",
        "# Main function\n",
        "def main():\n",
        "    # Simulate user input for email address\n",
        "    email = input('Enter your email address: ')\n",
        "\n",
        "    # Generate OTP\n",
        "    otp = generate_otp()\n",
        "\n",
        "    # Send OTP to user's email\n",
        "    send_otp_email(email, otp)\n",
        "\n",
        "    # Prompt user to enter OTP for validation\n",
        "    entered_otp = input('Enter the OTP sent to your email: ')\n",
        "\n",
        "    # Validate OTP\n",
        "    if validate_otp(entered_otp, otp):\n",
        "        print('Access granted!')\n",
        "    else:\n",
        "        print('Access denied!')\n",
        "\n",
        "if __name__ == '__main__':\n",
        "    main()\n"
      ],
      "metadata": {
        "colab": {
          "base_uri": "https://localhost:8080/"
        },
        "id": "81xmeE2RG1q7",
        "outputId": "f66079c6-46b8-421d-cb53-b46352686aaf"
      },
      "execution_count": null,
      "outputs": [
        {
          "output_type": "stream",
          "name": "stdout",
          "text": [
            "Enter your email address: vaishshukla420@gmail.com\n",
            "OTP sent successfully!\n",
            "Enter the OTP sent to your email: 234567\n",
            "Access denied!\n"
          ]
        }
      ]
    }
  ]
}
